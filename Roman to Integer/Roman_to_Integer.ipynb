{
  "nbformat": 4,
  "nbformat_minor": 0,
  "metadata": {
    "colab": {
      "provenance": [],
      "authorship_tag": "ABX9TyPwj+I269ng1uZXPKR5X3fd",
      "include_colab_link": true
    },
    "kernelspec": {
      "name": "python3",
      "display_name": "Python 3"
    },
    "language_info": {
      "name": "python"
    }
  },
  "cells": [
    {
      "cell_type": "markdown",
      "metadata": {
        "id": "view-in-github",
        "colab_type": "text"
      },
      "source": [
        "<a href=\"https://colab.research.google.com/github/IshanKarki/LeetCodes/blob/main/Roman%20to%20Integer/Roman_to_Integer.ipynb\" target=\"_parent\"><img src=\"https://colab.research.google.com/assets/colab-badge.svg\" alt=\"Open In Colab\"/></a>"
      ]
    },
    {
      "cell_type": "code",
      "source": [
        "m = {\n",
        "      'I': 1,\n",
        "      'V': 5,\n",
        "      'X': 10,\n",
        "      'L': 50,\n",
        "      'C': 100,\n",
        "      'D': 500,\n",
        "      'M': 1000\n",
        "    }"
      ],
      "metadata": {
        "id": "18-qIvSfKxWj"
      },
      "execution_count": 39,
      "outputs": []
    },
    {
      "cell_type": "markdown",
      "source": [
        "Now we know that the output will be correct but working with this code will cause a runtime error to produce some erroneous results.\n",
        "\n",
        "For eg, we know V = 5 but if we do VX,\n",
        "\n",
        "VX is also 5 which is an invalid Roman Number,\n",
        "\n",
        "Now there are some rules to tackle these input errors from reoccuring and this reflects back to the rules of writing a roman number.\n",
        "\n",
        "Lets just follow these for now so we get the basic idea behind it:\n",
        "\n",
        "1. I can be placed before V (5) and X (10) to make 4 and 9.\n",
        "\n",
        "2. X can be placed before L (50) and C (100) to make 40 and 90.\n",
        "\n",
        "3. C can be placed before D (500) and M (1000) to make 400 and 900.\n",
        "\n",
        "\n",
        "We can implement this error handling by raising Exception like,\n",
        "\n",
        "    if m[s[i]] < m[s[i+1]]\n",
        "To check if the first value in s is smaller than the second value. For eg,\n",
        "s = 'IV' here, we take I as first element and V as second and yes I = 1, is smaller than V = 5 then, we now do,\n",
        "\n",
        "    if s not in ['IV', 'IX', 'XL', 'XC', 'CD', 'CM']\n",
        "To check the following 3 rules that are only allowed as valid Roman Number.\n",
        "\n",
        "\n",
        "\n",
        "And together, looping through the entire entered string s like,\n",
        "\n",
        "    for i in range(len(s)-1):\n",
        "      if m[s[i]] < m[s[i+1]] and s not in ['IV', 'IX', 'XL', 'XC', 'CD', 'CM']:\n",
        "        raise Exception('Sorry! Please enter a valid Roman Number.')\n",
        "Note: This would be invalid if m wasn't declared globally."
      ],
      "metadata": {
        "id": "fNpIceTYH9Rx"
      }
    },
    {
      "cell_type": "code",
      "source": [
        "# class Solution:\n",
        "#   def romanToInteger(self, s):\n",
        "\n",
        "#     ans = 0\n",
        "\n",
        "#     for i in range(len(s)):\n",
        "#       if i < len(s) - 1 and m[s[i]] < m[s[i+1]]:\n",
        "#         ans -= m[s[i]]\n",
        "#       else:\n",
        "#         ans += m[s[i]]\n",
        "\n",
        "#     return ans\n",
        "\n",
        "'''Now we know this code will work but for error handling we do the following '''"
      ],
      "metadata": {
        "id": "1Ra-3sXWMLQE",
        "colab": {
          "base_uri": "https://localhost:8080/",
          "height": 36
        },
        "outputId": "49aacc15-9aea-41af-f631-2501d2805233"
      },
      "execution_count": 40,
      "outputs": [
        {
          "output_type": "execute_result",
          "data": {
            "text/plain": [
              "'Now we know this code will work but for error handling we do the following '"
            ],
            "application/vnd.google.colaboratory.intrinsic+json": {
              "type": "string"
            }
          },
          "metadata": {},
          "execution_count": 40
        }
      ]
    },
    {
      "cell_type": "code",
      "source": [
        "# Now entered a valid roman number, we take it and convert into its respective integer value\n",
        "\n",
        "class Solution:\n",
        "  def romanToInteger(self, s):\n",
        "\n",
        "    ans = 0\n",
        "    # for error handling we'll implement try, except\n",
        "    for i in range(len(s)-1):\n",
        "      if m[s[i]] < m[s[i+1]] and s not in ['IV', 'IX', 'XL', 'XC', 'CD', 'CM']:\n",
        "        raise Exception('Sorry! Please enter a valid Roman Number.')\n",
        "\n",
        "    for i in range(len(s)):\n",
        "      if i < len(s) - 1 and m[s[i]] < m[s[i+1]]:\n",
        "        ans -= m[s[i]]\n",
        "      else:\n",
        "        ans += m[s[i]]\n",
        "\n",
        "    return ans"
      ],
      "metadata": {
        "id": "fhgnw8wXFDTi"
      },
      "execution_count": 49,
      "outputs": []
    },
    {
      "cell_type": "code",
      "execution_count": 54,
      "metadata": {
        "id": "UBzdkYrCAnK9",
        "colab": {
          "base_uri": "https://localhost:8080/"
        },
        "outputId": "2c82b8d8-1259-4fab-f8cf-e4568540a06d"
      },
      "outputs": [
        {
          "output_type": "stream",
          "name": "stdout",
          "text": [
            "Enter valid Roman Number:   lv\n",
            "LV\n"
          ]
        }
      ],
      "source": [
        "s = input('Enter valid Roman Number:   ') #taking the input from the user\n",
        "s = s.upper()\n",
        "print(s)"
      ]
    },
    {
      "cell_type": "code",
      "source": [
        "x = Solution()\n",
        "print(x.romanToInteger(s))"
      ],
      "metadata": {
        "colab": {
          "base_uri": "https://localhost:8080/"
        },
        "id": "XW4K7p0gNOga",
        "outputId": "3e1dd44f-4557-4c2d-87a3-1157189a9ef6"
      },
      "execution_count": 55,
      "outputs": [
        {
          "output_type": "stream",
          "name": "stdout",
          "text": [
            "55\n"
          ]
        }
      ]
    },
    {
      "cell_type": "code",
      "source": [],
      "metadata": {
        "id": "pywDp_X2NPAN"
      },
      "execution_count": null,
      "outputs": []
    }
  ]
}