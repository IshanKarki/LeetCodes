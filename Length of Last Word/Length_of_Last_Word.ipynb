{
  "nbformat": 4,
  "nbformat_minor": 0,
  "metadata": {
    "colab": {
      "provenance": [],
      "authorship_tag": "ABX9TyPS5mcFP8RxVhqt7Nc8pMsB",
      "include_colab_link": true
    },
    "kernelspec": {
      "name": "python3",
      "display_name": "Python 3"
    },
    "language_info": {
      "name": "python"
    }
  },
  "cells": [
    {
      "cell_type": "markdown",
      "metadata": {
        "id": "view-in-github",
        "colab_type": "text"
      },
      "source": [
        "<a href=\"https://colab.research.google.com/github/IshanKarki/LeetCodes/blob/main/Length%20of%20Last%20Word/Length_of_Last_Word.ipynb\" target=\"_parent\"><img src=\"https://colab.research.google.com/assets/colab-badge.svg\" alt=\"Open In Colab\"/></a>"
      ]
    },
    {
      "cell_type": "markdown",
      "source": [
        "# Length of Last Word\n",
        "Given a string s consisting of words and spaces, return the length of the last word in the string.\n",
        "\n",
        "A word is a maximal\n",
        "substring\n",
        " consisting of non-space characters only.\n",
        "\n",
        "\n",
        "\n",
        "    Example 1:\n",
        "    Input: s = \"Hello World\"\n",
        "    Output: 5\n",
        "    Explanation: The last word is \"World\" with length 5.\n",
        "\n",
        "    Example 2:\n",
        "    Input: s = \"   fly me   to   the moon  \"\n",
        "    Output: 4\n",
        "    Explanation: The last word is \"moon\" with length 4.\n",
        "\n",
        "    Example 3:\n",
        "    Input: s = \"luffy is still joyboy\"\n",
        "    Output: 6\n",
        "    Explanation: The last word is \"joyboy\" with length 6.\n",
        ""
      ],
      "metadata": {
        "id": "-LgbPwdNZ3Rf"
      }
    },
    {
      "cell_type": "code",
      "source": [
        "#input from the user\n",
        "s = input('Enter the string:    ')"
      ],
      "metadata": {
        "colab": {
          "base_uri": "https://localhost:8080/"
        },
        "id": "8bFUSsp9Z-eU",
        "outputId": "75b6875e-bdb5-4c32-b5a9-13bacd254b62"
      },
      "execution_count": 1,
      "outputs": [
        {
          "name": "stdout",
          "output_type": "stream",
          "text": [
            "Enter the string:                   fly me to the moon             \n"
          ]
        }
      ]
    },
    {
      "cell_type": "code",
      "source": [
        "class Solution:\n",
        "  def lengthOfLastWord(self, s):\n",
        "    words = s.split()\n",
        "    return len(words[-1])"
      ],
      "metadata": {
        "id": "tUP6NrCVaGKB"
      },
      "execution_count": 2,
      "outputs": []
    },
    {
      "cell_type": "code",
      "source": [
        "output = Solution()\n",
        "print('s =', s)\n",
        "print('Length of last word,')\n",
        "print(\"Output:  \", end = '')\n",
        "print(output.lengthOfLastWord(s))"
      ],
      "metadata": {
        "colab": {
          "base_uri": "https://localhost:8080/"
        },
        "id": "1kdefZmoaV69",
        "outputId": "aa0cd50b-c890-4f07-a7b7-ed897541e0bb"
      },
      "execution_count": 4,
      "outputs": [
        {
          "output_type": "stream",
          "name": "stdout",
          "text": [
            "s =                fly me to the moon             \n",
            "Length of last word,\n",
            "Output:  4\n"
          ]
        }
      ]
    },
    {
      "cell_type": "code",
      "source": [],
      "metadata": {
        "id": "GeU_AYxMah21"
      },
      "execution_count": null,
      "outputs": []
    }
  ]
}