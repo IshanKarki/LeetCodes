{
  "nbformat": 4,
  "nbformat_minor": 0,
  "metadata": {
    "colab": {
      "provenance": [],
      "authorship_tag": "ABX9TyOXSBXIY+gt6LSWab2x0ft9",
      "include_colab_link": true
    },
    "kernelspec": {
      "name": "python3",
      "display_name": "Python 3"
    },
    "language_info": {
      "name": "python"
    }
  },
  "cells": [
    {
      "cell_type": "markdown",
      "metadata": {
        "id": "view-in-github",
        "colab_type": "text"
      },
      "source": [
        "<a href=\"https://colab.research.google.com/github/IshanKarki/LeetCodes/blob/main/Move%20Zeroes/Move_Zeroes.ipynb\" target=\"_parent\"><img src=\"https://colab.research.google.com/assets/colab-badge.svg\" alt=\"Open In Colab\"/></a>"
      ]
    },
    {
      "cell_type": "markdown",
      "source": [
        "# Move Zeroes\n",
        "Given an integer array nums, move all 0's to the end of it while maintaining the relative order of the non-zero elements.\n",
        "\n",
        "Note that you must do this in-place without making a copy of the array.\n",
        "\n",
        "\n",
        "\n",
        "    Example 1:\n",
        "    Input: nums = [0,1,0,3,12]\n",
        "    Output: [1,3,12,0,0]\n",
        "    \n",
        "    Example 2:\n",
        "    Input: nums = [0]\n",
        "    Output: [0]"
      ],
      "metadata": {
        "id": "vHo67Sjm2WsO"
      }
    },
    {
      "cell_type": "code",
      "source": [
        "num = int(input('Enter the total number of items in nums: '))\n",
        "nums = []\n",
        "for i in range(num):\n",
        "  n = int(input('Enter the number: '))\n",
        "  nums.append(n)\n",
        "\n",
        "print(nums)"
      ],
      "metadata": {
        "colab": {
          "base_uri": "https://localhost:8080/"
        },
        "id": "CKJEbvWY2sks",
        "outputId": "bd9fcaa7-a114-4b27-8707-e5902815dd0e"
      },
      "execution_count": 1,
      "outputs": [
        {
          "output_type": "stream",
          "name": "stdout",
          "text": [
            "Enter the total number of items in nums: 5\n",
            "Enter the number: 0\n",
            "Enter the number: 1\n",
            "Enter the number: 0\n",
            "Enter the number: 3\n",
            "Enter the number: 12\n",
            "[0, 1, 0, 3, 12]\n"
          ]
        }
      ]
    },
    {
      "cell_type": "code",
      "source": [
        "# here on LeetCode, it is told us to not return anything but just modify the nums, however I have returned for the sake of simplicity of the printed output.\n",
        "class Solution:\n",
        "  def moveZeroes(self, nums):\n",
        "\n",
        "    for i in nums:\n",
        "      if i == 0:\n",
        "        nums.remove(i)\n",
        "        nums.append(i)\n",
        "\n",
        "    return nums"
      ],
      "metadata": {
        "id": "hMDLrGpM2keV"
      },
      "execution_count": 4,
      "outputs": []
    },
    {
      "cell_type": "code",
      "source": [
        "output = Solution()\n",
        "print('The entered nums =', nums)\n",
        "print('The output is ', end = '')\n",
        "print(output.moveZeroes(nums))"
      ],
      "metadata": {
        "colab": {
          "base_uri": "https://localhost:8080/"
        },
        "id": "LsS180YP3PKQ",
        "outputId": "5697cbae-55c9-4420-8a4f-ebd9f61db59f"
      },
      "execution_count": 6,
      "outputs": [
        {
          "output_type": "stream",
          "name": "stdout",
          "text": [
            "The entered nums = [1, 3, 12, 0, 0]\n",
            "The output is [1, 3, 12, 0, 0]\n"
          ]
        }
      ]
    }
  ]
}