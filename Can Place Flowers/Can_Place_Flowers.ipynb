{
  "nbformat": 4,
  "nbformat_minor": 0,
  "metadata": {
    "colab": {
      "provenance": [],
      "authorship_tag": "ABX9TyPAS5VkkA9W+VdYk2MAdClw",
      "include_colab_link": true
    },
    "kernelspec": {
      "name": "python3",
      "display_name": "Python 3"
    },
    "language_info": {
      "name": "python"
    }
  },
  "cells": [
    {
      "cell_type": "markdown",
      "metadata": {
        "id": "view-in-github",
        "colab_type": "text"
      },
      "source": [
        "<a href=\"https://colab.research.google.com/github/IshanKarki/LeetCodes/blob/main/Can%20Place%20Flowers/Can_Place_Flowers.ipynb\" target=\"_parent\"><img src=\"https://colab.research.google.com/assets/colab-badge.svg\" alt=\"Open In Colab\"/></a>"
      ]
    },
    {
      "cell_type": "markdown",
      "source": [
        "# Can Place Flowers\n",
        "You have a long flowerbed in which some of the plots are planted, and some are not. However, flowers cannot be planted in adjacent plots.\n",
        "\n",
        "Given an integer array flowerbed containing 0's and 1's, where 0 means empty and 1 means not empty, and an integer n, return true if n new flowers can be planted in the flowerbed without violating the no-adjacent-flowers rule and false otherwise.\n",
        "\n",
        "\n",
        "\n",
        "    Example 1:\n",
        "    Input: flowerbed = [1,0,0,0,1], n = 1\n",
        "    Output: true\n",
        "\n",
        "    Example 2:\n",
        "    Input: flowerbed = [1,0,0,0,1], n = 2\n",
        "    Output: false"
      ],
      "metadata": {
        "id": "iXRovuyDuOhF"
      }
    },
    {
      "cell_type": "code",
      "source": [
        "# lets take input from user\n",
        "num = int(input('Enter how many plots of flowerbed:  '))\n",
        "flowerbed = []\n",
        "for plant in range(num):\n",
        "  plot = int(input('Is this plot empty or not empty?:  '))\n",
        "  flowerbed.append(plot)\n",
        "\n",
        "\n",
        "\n",
        "if plot not in [0,1]:\n",
        "  raise Exception(\"The entered input is invalid. Please enter 0 for empty flowerbed or 1 for non-empty flowerbed.\")\n",
        "\n",
        "\n",
        "print('\\nFlowerbed =', flowerbed)"
      ],
      "metadata": {
        "colab": {
          "base_uri": "https://localhost:8080/"
        },
        "id": "tC8zl_skuYZJ",
        "outputId": "2175404e-87e1-4015-a03c-50692fd89fa3"
      },
      "execution_count": 30,
      "outputs": [
        {
          "output_type": "stream",
          "name": "stdout",
          "text": [
            "Enter how many plots of flowerbed:  5\n",
            "Is this plot empty or not empty?:  1\n",
            "Is this plot empty or not empty?:  0\n",
            "Is this plot empty or not empty?:  0\n",
            "Is this plot empty or not empty?:  0\n",
            "Is this plot empty or not empty?:  1\n",
            "\n",
            "Flowerbed = [1, 0, 0, 0, 1]\n"
          ]
        }
      ]
    },
    {
      "cell_type": "code",
      "source": [
        "# for n\n",
        "n = int(input('Enter how many flowers to be planted?:  '))\n",
        "print('Flowerbed =', flowerbed, 'Flowers to be placed:', n)"
      ],
      "metadata": {
        "colab": {
          "base_uri": "https://localhost:8080/"
        },
        "id": "1YHm7LuS0MHZ",
        "outputId": "74b75095-3bd3-4f4c-d4d5-a1999fd58805"
      },
      "execution_count": 31,
      "outputs": [
        {
          "output_type": "stream",
          "name": "stdout",
          "text": [
            "Enter how many flowers to be planted?:  1\n",
            "Flowerbed = [1, 0, 0, 0, 1] Flowers to be placed: 1\n"
          ]
        }
      ]
    },
    {
      "cell_type": "code",
      "source": [
        "class Solution:\n",
        "  def canPlaceFlowers(self, flowerbed, n):\n",
        "\n",
        "        if n == 0:\n",
        "            return True\n",
        "\n",
        "        for i in range(len(flowerbed)):\n",
        "            if flowerbed[i] == 0 and (i == 0 or flowerbed[i-1] == 0) and (i == len(flowerbed) - 1 or flowerbed[i+1] == 0): #checking if value is 0, and if it is the first value or has the previous value 0 and if its last or the next value is 0\n",
        "                flowerbed[i] = 1 #if the above condition true then we can add place flower, thus value changed to 1\n",
        "                n -= 1 # and the left flowers to be placed will be decreased by 1 as we already placed one\n",
        "                if n == 0: # if we can place all the flowers satisfying the above conditions then the value of n will be zero thus return True else False\n",
        "                    return True\n",
        "        return False"
      ],
      "metadata": {
        "id": "HXlFHoHivueU"
      },
      "execution_count": 32,
      "outputs": []
    },
    {
      "cell_type": "code",
      "source": [
        "output = Solution()\n",
        "print('Flowerbed =', flowerbed, 'Flowers to be placed:', n)\n",
        "print(output.canPlaceFlowers(flowerbed, n))"
      ],
      "metadata": {
        "colab": {
          "base_uri": "https://localhost:8080/"
        },
        "id": "fTpdQUuUyV0E",
        "outputId": "28e87446-2132-4083-a2fa-a1bd88933fc0"
      },
      "execution_count": 33,
      "outputs": [
        {
          "output_type": "stream",
          "name": "stdout",
          "text": [
            "Flowerbed = [1, 0, 0, 0, 1] Flowers to be placed: 1\n",
            "True\n"
          ]
        }
      ]
    },
    {
      "cell_type": "code",
      "source": [],
      "metadata": {
        "id": "BGBLUW_Uyw1B"
      },
      "execution_count": null,
      "outputs": []
    }
  ]
}