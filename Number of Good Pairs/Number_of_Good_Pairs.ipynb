{
  "nbformat": 4,
  "nbformat_minor": 0,
  "metadata": {
    "colab": {
      "provenance": [],
      "authorship_tag": "ABX9TyN4p8JkU+XRM5Tfb6PJqo4q",
      "include_colab_link": true
    },
    "kernelspec": {
      "name": "python3",
      "display_name": "Python 3"
    },
    "language_info": {
      "name": "python"
    }
  },
  "cells": [
    {
      "cell_type": "markdown",
      "metadata": {
        "id": "view-in-github",
        "colab_type": "text"
      },
      "source": [
        "<a href=\"https://colab.research.google.com/github/IshanKarki/LeetCodes/blob/main/Number%20of%20Good%20Pairs/Number_of_Good_Pairs.ipynb\" target=\"_parent\"><img src=\"https://colab.research.google.com/assets/colab-badge.svg\" alt=\"Open In Colab\"/></a>"
      ]
    },
    {
      "cell_type": "markdown",
      "source": [
        "# NUMBER OF GOOD PAIRS\n",
        "\n",
        "Given an array of integers **nums**, **return** the ***number of good pairs***.\n",
        "\n",
        "**A pair ( i, j ) is called good if nums[ i ] == nums[ j ] and i < j.**\n",
        "\n",
        "\n",
        "\n",
        "    Example 1:\n",
        "    Input: nums = [1,2,3,1,1,3]\n",
        "    Output: 4\n",
        "    Explanation: There are 4 good pairs (0,3), (0,4), (3,4), (2,5) 0-indexed.\n",
        "\n",
        "    Example 2:\n",
        "    Input: nums = [1,1,1,1]\n",
        "    Output: 6\n",
        "    Explanation: Each pair in the array are good.\n",
        "\n",
        "    Example 3:\n",
        "    Input: nums = [1,2,3]\n",
        "    Output: 0"
      ],
      "metadata": {
        "id": "n4i8cPcoZmDw"
      }
    },
    {
      "cell_type": "code",
      "execution_count": 13,
      "metadata": {
        "colab": {
          "base_uri": "https://localhost:8080/"
        },
        "id": "JNfBx6KnZifU",
        "outputId": "695515a4-991d-4bfd-989f-64fbabeeb2ee"
      },
      "outputs": [
        {
          "output_type": "stream",
          "name": "stdout",
          "text": [
            "How many integers or numbers do you want in your array:  4\n",
            "Enter the integer/number 1: 1\n",
            "Enter the integer/number 2: 1\n",
            "Enter the integer/number 3: 1\n",
            "Enter the integer/number 4: 1\n",
            "[1, 1, 1, 1]\n"
          ]
        }
      ],
      "source": [
        "#taking input from the user\n",
        "x = int(input('How many integers or numbers do you want in your array:  '))\n",
        "count = 1\n",
        "nums = []\n",
        "for i in range(x):\n",
        "  inp = int(input(f'Enter the integer/number {count}: '))\n",
        "  count += 1\n",
        "  nums.append(inp)\n",
        "print(nums)"
      ]
    },
    {
      "cell_type": "code",
      "source": [
        "# a good pair is an identical pair\n",
        "# the approach is fairly easy with nested looping\n",
        "class Solution1:\n",
        "  def numIdenticalPairs(self, nums):\n",
        "\n",
        "    pair = 0\n",
        "    for i in range(x):\n",
        "      for j in range(i+1, x):\n",
        "        if nums[i] == nums[j]:\n",
        "          pair += 1\n",
        "\n",
        "    return pair"
      ],
      "metadata": {
        "id": "9oTNgbUNauix"
      },
      "execution_count": 14,
      "outputs": []
    },
    {
      "cell_type": "code",
      "source": [
        "output1 = Solution1() #since its looping inside loop hence its complexity is O(n^2), and space complexity of O(1) as its only to store one integer array nums\n",
        "print(output1.numIdenticalPairs(nums))"
      ],
      "metadata": {
        "colab": {
          "base_uri": "https://localhost:8080/"
        },
        "id": "8AN0o9QwdIaz",
        "outputId": "f31ff3d9-42a5-49e9-dab0-ca6ca8dad428"
      },
      "execution_count": 15,
      "outputs": [
        {
          "output_type": "stream",
          "name": "stdout",
          "text": [
            "6\n"
          ]
        }
      ]
    },
    {
      "cell_type": "code",
      "source": [
        "# Another similar approach will be to use the count() method, first I thought to reduce its complexity from O(n^2) to O(n),\n",
        "# but later I figured out that even the count() method itself has a complexity of O(n), and hence\n",
        "# in this method, we'll need to keep a copy of the original integer array, so hence even the space complexity of this approach below is O(n)\n",
        "\n",
        "class Solution2:\n",
        "  def numIdenticalPairs(self, nums):\n",
        "\n",
        "    pair = 0\n",
        "    num = nums.copy() # we make a copy of the original to make no changes to the original list/array\n",
        "    for i in range(x):\n",
        "      pair += num.count(nums[i]) - 1\n",
        "      if num.count(nums[i]) > 1:\n",
        "        num.remove(nums[i])\n",
        "\n",
        "    return pair"
      ],
      "metadata": {
        "id": "hywPmtHXdNRT"
      },
      "execution_count": 16,
      "outputs": []
    },
    {
      "cell_type": "code",
      "source": [
        "output2 = Solution2()\n",
        "print(output2.numIdenticalPairs(nums))"
      ],
      "metadata": {
        "colab": {
          "base_uri": "https://localhost:8080/"
        },
        "id": "YF6DUReHdu6c",
        "outputId": "9c9118f1-036e-466a-8b50-32c84c9bc7bb"
      },
      "execution_count": 17,
      "outputs": [
        {
          "output_type": "stream",
          "name": "stdout",
          "text": [
            "6\n"
          ]
        }
      ]
    },
    {
      "cell_type": "code",
      "source": [],
      "metadata": {
        "id": "jYHZz4yPeywv"
      },
      "execution_count": null,
      "outputs": []
    }
  ]
}