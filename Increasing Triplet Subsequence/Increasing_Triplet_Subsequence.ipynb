{
  "nbformat": 4,
  "nbformat_minor": 0,
  "metadata": {
    "colab": {
      "provenance": [],
      "authorship_tag": "ABX9TyO2YTGTLxR6h75MV7lspae2",
      "include_colab_link": true
    },
    "kernelspec": {
      "name": "python3",
      "display_name": "Python 3"
    },
    "language_info": {
      "name": "python"
    }
  },
  "cells": [
    {
      "cell_type": "markdown",
      "metadata": {
        "id": "view-in-github",
        "colab_type": "text"
      },
      "source": [
        "<a href=\"https://colab.research.google.com/github/IshanKarki/LeetCodes/blob/main/Increasing%20Triplet%20Subsequence/Increasing_Triplet_Subsequence.ipynb\" target=\"_parent\"><img src=\"https://colab.research.google.com/assets/colab-badge.svg\" alt=\"Open In Colab\"/></a>"
      ]
    },
    {
      "cell_type": "code",
      "execution_count": null,
      "metadata": {
        "id": "yycYGNhVexE2"
      },
      "outputs": [],
      "source": []
    },
    {
      "cell_type": "markdown",
      "source": [
        "# Increasing Triplet Subsequence\n",
        "Given an integer array nums, return true if there exists a triple of indices (i, j, k) such that i < j < k and nums[ i ] < nums[ j ] < nums[ k ]. If no such indices exists, return false.\n",
        "\n",
        "\n",
        "\n",
        "    Example 1:\n",
        "    Input: nums = [1,2,3,4,5]\n",
        "    Output: true\n",
        "    Explanation: Any triplet where i < j < k is valid.\n",
        "\n",
        "    Example 2:\n",
        "    Input: nums = [5,4,3,2,1]\n",
        "    Output: false\n",
        "    Explanation: No triplet exists.\n",
        "\n",
        "    Example 3:\n",
        "    Input: nums = [2,1,5,0,4,6]\n",
        "    Output: true\n",
        "    Explanation: The triplet (3, 4, 5) is valid because nums[3] == 0 < nums[4] == 4 < nums[5] == 6.\n",
        ""
      ],
      "metadata": {
        "id": "A6SVVW19eyIi"
      }
    },
    {
      "cell_type": "code",
      "source": [
        "#input\n",
        "num = int(input('Enter how many numbers in nums: '))\n",
        "nums = []\n",
        "for i in range(num):\n",
        "  n = int(input('Enter the number: '))\n",
        "  nums.append(n)\n",
        "\n",
        "print(nums)"
      ],
      "metadata": {
        "colab": {
          "base_uri": "https://localhost:8080/"
        },
        "id": "kOuNHNgrfAdd",
        "outputId": "c8a823da-987a-4c8e-a867-a0dce064c1b3"
      },
      "execution_count": 4,
      "outputs": [
        {
          "output_type": "stream",
          "name": "stdout",
          "text": [
            "Enter how many numbers in nums: 6\n",
            "Enter the number: 1\n",
            "Enter the number: 5\n",
            "Enter the number: 0\n",
            "Enter the number: 4\n",
            "Enter the number: 1\n",
            "Enter the number: 3\n",
            "[1, 5, 0, 4, 1, 3]\n"
          ]
        }
      ]
    },
    {
      "cell_type": "code",
      "source": [
        "class Solution:\n",
        "  def increasingTriplet(self, nums):\n",
        "    n =len(nums)\n",
        "    maxRight = [0] * n\n",
        "    maxRight[-1] = nums[-1]\n",
        "\n",
        "    for i in range(n - 2, -1, -1):\n",
        "      maxRight[i] = max(maxRight[i+1], nums[i+1])\n",
        "\n",
        "    minLeft = nums[0]\n",
        "    for i in range(1, n-1):\n",
        "      if minLeft < nums[i] < maxRight[i]:\n",
        "        return True\n",
        "      minLeft = min(minLeft, nums[i])\n",
        "\n",
        "    return False"
      ],
      "metadata": {
        "id": "hanmem4TfX7U"
      },
      "execution_count": 5,
      "outputs": []
    },
    {
      "cell_type": "code",
      "source": [
        "output = Solution()\n",
        "print(output.increasingTriplet(nums))"
      ],
      "metadata": {
        "colab": {
          "base_uri": "https://localhost:8080/"
        },
        "id": "A1YTPnYggjlw",
        "outputId": "a015b58b-e41d-4da0-eb88-ebe687a84afe"
      },
      "execution_count": 6,
      "outputs": [
        {
          "output_type": "stream",
          "name": "stdout",
          "text": [
            "True\n"
          ]
        }
      ]
    },
    {
      "cell_type": "code",
      "source": [],
      "metadata": {
        "id": "d9O57V9dgnXv"
      },
      "execution_count": null,
      "outputs": []
    }
  ]
}