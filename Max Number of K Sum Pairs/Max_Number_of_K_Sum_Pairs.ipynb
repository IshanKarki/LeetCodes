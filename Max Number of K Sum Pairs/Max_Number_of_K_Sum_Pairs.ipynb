{
  "nbformat": 4,
  "nbformat_minor": 0,
  "metadata": {
    "colab": {
      "provenance": [],
      "authorship_tag": "ABX9TyOmqF+rrschViLvUG4nBk3w",
      "include_colab_link": true
    },
    "kernelspec": {
      "name": "python3",
      "display_name": "Python 3"
    },
    "language_info": {
      "name": "python"
    }
  },
  "cells": [
    {
      "cell_type": "markdown",
      "metadata": {
        "id": "view-in-github",
        "colab_type": "text"
      },
      "source": [
        "<a href=\"https://colab.research.google.com/github/IshanKarki/LeetCodes/blob/main/Max%20Number%20of%20K%20Sum%20Pairs/Max_Number_of_K_Sum_Pairs.ipynb\" target=\"_parent\"><img src=\"https://colab.research.google.com/assets/colab-badge.svg\" alt=\"Open In Colab\"/></a>"
      ]
    },
    {
      "cell_type": "markdown",
      "source": [
        "# Max Number of K-Sum Pairs\n",
        "You are given an integer array nums and an integer k.\n",
        "\n",
        "In one operation, you can pick two numbers from the array whose sum equals k and remove them from the array.\n",
        "\n",
        "Return the maximum number of operations you can perform on the array.\n",
        "\n",
        "\n",
        "\n",
        "    Example 1:\n",
        "    Input: nums = [1,2,3,4], k = 5\n",
        "    Output: 2\n",
        "    Explanation: Starting with nums = [1,2,3,4]:\n",
        "    - Remove numbers 1 and 4, then nums = [2,3]\n",
        "    - Remove numbers 2 and 3, then nums = []\n",
        "    There are no more pairs that sum up to 5, hence a total of 2 operations.\n",
        "\n",
        "    Example 2:\n",
        "    Input: nums = [3,1,3,4,3], k = 6\n",
        "    Output: 1\n",
        "    Explanation: Starting with nums = [3,1,3,4,3]:\n",
        "    - Remove the first two 3's, then nums = [1,4,3]\n",
        "    There are no more pairs that sum up to 6, hence a total of 1 operation."
      ],
      "metadata": {
        "id": "Z2Rx1Rm4gzcm"
      }
    },
    {
      "cell_type": "code",
      "source": [
        "n = int(input('Enter the total number of integers in nums:  '))\n",
        "nums = []\n",
        "for i in range(n):\n",
        "  num = int(input(\"Enter the number: \"))\n",
        "  nums.append(num)\n",
        "k = int(input('Enter the value of k:  '))\n",
        "\n",
        "print(nums, k)"
      ],
      "metadata": {
        "colab": {
          "base_uri": "https://localhost:8080/"
        },
        "id": "8gxLb8Lcg73p",
        "outputId": "9d97760c-30db-4e60-be8f-224d251a749c"
      },
      "execution_count": 5,
      "outputs": [
        {
          "output_type": "stream",
          "name": "stdout",
          "text": [
            "Enter the total number of integers in nums:  4\n",
            "Enter the number: 1\n",
            "Enter the number: 2\n",
            "Enter the number: 3\n",
            "Enter the number: 4\n",
            "Enter the value of k:  5\n",
            "[1, 2, 3, 4] 5\n"
          ]
        }
      ]
    },
    {
      "cell_type": "code",
      "source": [
        "class Solution:\n",
        "  def maxOperations(self, nums, k):\n",
        "\n",
        "    nums.sort()\n",
        "    count = 0\n",
        "    left = 0\n",
        "    right = len(nums) - 1\n",
        "\n",
        "    while left < right:\n",
        "      if nums[left] + nums[right] == k:\n",
        "        count += 1\n",
        "        left += 1\n",
        "        right -= 1\n",
        "      elif nums[left] + nums[right] < k:\n",
        "        left += 1\n",
        "      else:\n",
        "        right -= 1\n",
        "\n",
        "    return count"
      ],
      "metadata": {
        "id": "IPAb7S4IhWQS"
      },
      "execution_count": 6,
      "outputs": []
    },
    {
      "cell_type": "code",
      "source": [
        "output = Solution()\n",
        "print('nums =', nums)\n",
        "print('k =', k)\n",
        "print('The output is:', output.maxOperations(nums, k))"
      ],
      "metadata": {
        "colab": {
          "base_uri": "https://localhost:8080/"
        },
        "id": "ZAcl1lrjiMFv",
        "outputId": "66590c39-1f2b-4bac-c093-70fb2223ebd6"
      },
      "execution_count": 10,
      "outputs": [
        {
          "output_type": "stream",
          "name": "stdout",
          "text": [
            "nums = [1, 2, 3, 4]\n",
            "k = 5\n",
            "The output is: 2\n"
          ]
        }
      ]
    },
    {
      "cell_type": "code",
      "source": [],
      "metadata": {
        "id": "B_82Dfrgi-AW"
      },
      "execution_count": null,
      "outputs": []
    }
  ]
}