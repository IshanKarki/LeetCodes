{
  "nbformat": 4,
  "nbformat_minor": 0,
  "metadata": {
    "colab": {
      "provenance": [],
      "authorship_tag": "ABX9TyPX6PHHyyTAf3kOyKEbNMUP",
      "include_colab_link": true
    },
    "kernelspec": {
      "name": "python3",
      "display_name": "Python 3"
    },
    "language_info": {
      "name": "python"
    }
  },
  "cells": [
    {
      "cell_type": "markdown",
      "metadata": {
        "id": "view-in-github",
        "colab_type": "text"
      },
      "source": [
        "<a href=\"https://colab.research.google.com/github/IshanKarki/LeetCodes/blob/main/Find%20the%20Highest%20Altitude/Find_the_Highest_Altitude.ipynb\" target=\"_parent\"><img src=\"https://colab.research.google.com/assets/colab-badge.svg\" alt=\"Open In Colab\"/></a>"
      ]
    },
    {
      "cell_type": "markdown",
      "source": [
        "# Find the Highest Altitude\n",
        "There is a biker going on a road trip. The road trip consists of n + 1 points at different altitudes. The biker starts his trip on point 0 with altitude equal 0.\n",
        "\n",
        "You are given an integer array gain of length n where gain[ i ] is the net gain in altitude between points **i**​​​​​​ and **i + 1** for all **(0 <= i < n)**. Return the highest altitude of a point.\n",
        "\n",
        "\n",
        "\n",
        "    Example 1:\n",
        "    Input: gain = [-5,1,5,0,-7]\n",
        "    Output: 1\n",
        "    Explanation: The altitudes are [0,-5,-4,1,1,-6]. The highest is 1.\n",
        "\n",
        "    Example 2:\n",
        "    Input: gain = [-4,-3,-2,-1,4,3,2]\n",
        "    Output: 0\n",
        "    Explanation: The altitudes are [0,-4,-7,-9,-10,-6,-3,-1]. The highest is 0."
      ],
      "metadata": {
        "id": "GHpWooXwqs_9"
      }
    },
    {
      "cell_type": "code",
      "execution_count": 13,
      "metadata": {
        "colab": {
          "base_uri": "https://localhost:8080/"
        },
        "id": "t4JZXEdzqrwu",
        "outputId": "c404b1ad-ae45-45b8-c547-fcf855920907"
      },
      "outputs": [
        {
          "output_type": "stream",
          "name": "stdout",
          "text": [
            "Enter the elements in the array separated by space:  -5 1 5  0 -7\n",
            "gain = [-5, 1, 5, 0, -7]\n"
          ]
        }
      ],
      "source": [
        "# input from user but with a new way lets take input separated by a space that way we don't need to specify how many values to enter in the gain\n",
        "\n",
        "strings = input(\"Enter the elements in the array separated by space:  \")\n",
        "string = strings.split() # string method to separate the values by space\n",
        "gain = []\n",
        "\n",
        "for i in range(len(string)):\n",
        "  value = int(string[i])\n",
        "  gain.append(value)\n",
        "\n",
        "print('gain =', gain)"
      ]
    },
    {
      "cell_type": "code",
      "source": [
        "class Solution:\n",
        "  def largestAltitude(self, gain):\n",
        "\n",
        "    altitudes = [0] * (len(gain)+1)\n",
        "    for i in range(len(gain)):\n",
        "      altitudes[i+1] = altitudes[i] + gain[i]\n",
        "\n",
        "    print('The altitudes are', altitudes)\n",
        "    print('The highest is', end = ' ')\n",
        "    return max(altitudes)"
      ],
      "metadata": {
        "id": "aswVHF_KtkRU"
      },
      "execution_count": 19,
      "outputs": []
    },
    {
      "cell_type": "code",
      "source": [
        "output = Solution()\n",
        "print(output.largestAltitude(gain))"
      ],
      "metadata": {
        "colab": {
          "base_uri": "https://localhost:8080/"
        },
        "id": "2SxbFe-UupOr",
        "outputId": "f3832e1f-54e6-4d84-da1b-c35953f3e0d2"
      },
      "execution_count": 21,
      "outputs": [
        {
          "output_type": "stream",
          "name": "stdout",
          "text": [
            "The altitudes are [0, -5, -4, 1, 1, -6]\n",
            "The highest is 1\n"
          ]
        }
      ]
    },
    {
      "cell_type": "code",
      "source": [],
      "metadata": {
        "id": "APlCX_iPuswB"
      },
      "execution_count": null,
      "outputs": []
    }
  ]
}