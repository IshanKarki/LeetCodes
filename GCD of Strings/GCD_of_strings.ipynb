{
  "nbformat": 4,
  "nbformat_minor": 0,
  "metadata": {
    "colab": {
      "provenance": [],
      "authorship_tag": "ABX9TyO+NizMtlUWQsF477iYV4Wa",
      "include_colab_link": true
    },
    "kernelspec": {
      "name": "python3",
      "display_name": "Python 3"
    },
    "language_info": {
      "name": "python"
    }
  },
  "cells": [
    {
      "cell_type": "markdown",
      "metadata": {
        "id": "view-in-github",
        "colab_type": "text"
      },
      "source": [
        "<a href=\"https://colab.research.google.com/github/IshanKarki/LeetCodes/blob/main/GCD%20of%20Strings/GCD_of_strings.ipynb\" target=\"_parent\"><img src=\"https://colab.research.google.com/assets/colab-badge.svg\" alt=\"Open In Colab\"/></a>"
      ]
    },
    {
      "cell_type": "markdown",
      "source": [
        "# GCD of Strings\n",
        "\n",
        "For two strings s and t, we say \"t divides s\" if and only if s = t + t + t + ... + t + t (i.e., t is concatenated with itself one or more times).\n",
        "\n",
        "Given two strings str1 and str2, return the largest string x such that x divides both str1 and str2.\n",
        "\n",
        "\n",
        "\n",
        "    Example 1:\n",
        "    Input: str1 = \"ABCABC\", str2 = \"ABC\"\n",
        "    Output: \"ABC\"\n",
        "\n",
        "    Example 2:\n",
        "    Input: str1 = \"ABABAB\", str2 = \"ABAB\"\n",
        "    Output: \"AB\"\n",
        "\n",
        "    Example 3:\n",
        "    Input: str1 = \"LEET\", str2 = \"CODE\"\n",
        "    Output: \"\""
      ],
      "metadata": {
        "id": "Nlk-W0EJDDpP"
      }
    },
    {
      "cell_type": "code",
      "execution_count": 8,
      "metadata": {
        "colab": {
          "base_uri": "https://localhost:8080/"
        },
        "id": "ctnGJDEKDAiN",
        "outputId": "1f26fb75-3d8b-4653-cb5f-8ce2850383f6"
      },
      "outputs": [
        {
          "name": "stdout",
          "output_type": "stream",
          "text": [
            "Enter the first string: abcabc\n",
            "Enter the second string: abc\n"
          ]
        }
      ],
      "source": [
        "#input\n",
        "str1 = input('Enter the first string: ')\n",
        "str2 = input('Enter the second string: ')\n"
      ]
    },
    {
      "cell_type": "code",
      "source": [
        "from math import gcd\n",
        "class Solution:\n",
        "  def gcdOfStrings(self, str1,str2):\n",
        "\n",
        "    # for something to be GCD we need to calculate the gcd of something as demonstrated in the second example, thus\n",
        "\n",
        "    if str1 + str2 != str2 + str1:\n",
        "      return ''\n",
        "\n",
        "\n",
        "    return str1[:gcd(len(str1), len(str2))] #return the string of str1 or str2 upto gcd of both strings"
      ],
      "metadata": {
        "id": "maMEktcuDlAz"
      },
      "execution_count": 9,
      "outputs": []
    },
    {
      "cell_type": "code",
      "source": [
        "output = Solution()\n",
        "print(output.gcdOfStrings(str1, str2))"
      ],
      "metadata": {
        "id": "0_caNclYEI5w",
        "colab": {
          "base_uri": "https://localhost:8080/"
        },
        "outputId": "75520806-33b7-4989-e1b2-66054c681aa6"
      },
      "execution_count": 10,
      "outputs": [
        {
          "output_type": "stream",
          "name": "stdout",
          "text": [
            "abc\n"
          ]
        }
      ]
    },
    {
      "cell_type": "code",
      "source": [],
      "metadata": {
        "id": "kh3tZd6PFbzl"
      },
      "execution_count": null,
      "outputs": []
    }
  ]
}