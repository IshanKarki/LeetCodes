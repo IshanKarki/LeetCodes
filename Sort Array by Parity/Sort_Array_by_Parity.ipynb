{
  "nbformat": 4,
  "nbformat_minor": 0,
  "metadata": {
    "colab": {
      "provenance": [],
      "authorship_tag": "ABX9TyMIL5EOu+KWtYltG1cvTh50",
      "include_colab_link": true
    },
    "kernelspec": {
      "name": "python3",
      "display_name": "Python 3"
    },
    "language_info": {
      "name": "python"
    }
  },
  "cells": [
    {
      "cell_type": "markdown",
      "metadata": {
        "id": "view-in-github",
        "colab_type": "text"
      },
      "source": [
        "<a href=\"https://colab.research.google.com/github/IshanKarki/LeetCodes/blob/main/Sort%20Array%20by%20Parity/Sort_Array_by_Parity.ipynb\" target=\"_parent\"><img src=\"https://colab.research.google.com/assets/colab-badge.svg\" alt=\"Open In Colab\"/></a>"
      ]
    },
    {
      "cell_type": "markdown",
      "source": [
        "# Sort Array by Parity\n",
        "Given an integer array nums, move all the even integers at the beginning of the array followed by all the odd integers.\n",
        "\n",
        "Return any array that satisfies this condition.\n",
        "\n",
        "\n",
        "    Example 1:\n",
        "    Input: nums = [3,1,2,4]\n",
        "    Output: [2,4,3,1]\n",
        "    Explanation: The outputs [4,2,3,1], [2,4,1,3], and [4,2,1,3] would also be accepted.\n",
        "\n",
        "    Example 2:\n",
        "    Input: nums = [0]\n",
        "    Output: [0]"
      ],
      "metadata": {
        "id": "HgQkLB_sOIHO"
      }
    },
    {
      "cell_type": "code",
      "execution_count": 4,
      "metadata": {
        "colab": {
          "base_uri": "https://localhost:8080/"
        },
        "id": "CpBhV1QPN7Zw",
        "outputId": "2f40b9e0-7bf9-4dd6-d516-9b14843a59f0"
      },
      "outputs": [
        {
          "output_type": "stream",
          "name": "stdout",
          "text": [
            "How many numbers in the array?:  5\n",
            "Enter the number: 1\n",
            "Enter the number: 2\n",
            "Enter the number: 3\n",
            "Enter the number: 4\n",
            "Enter the number: 6\n",
            "[1, 2, 3, 4, 6]\n"
          ]
        }
      ],
      "source": [
        "#taking input from the user\n",
        "nums = []\n",
        "a = int(input('How many numbers in the array?:  '))\n",
        "for i in range(a):\n",
        "  inp = int(input('Enter the number: '))\n",
        "  nums.append(inp)\n",
        "\n",
        "print(nums)"
      ]
    },
    {
      "cell_type": "code",
      "source": [
        "class Solution:\n",
        "    def sortArrayByParity(self, nums):\n",
        "\n",
        "        num = []\n",
        "        for i in range(len(nums)):\n",
        "            if nums[i] % 2 == 0:\n",
        "                num.append(nums[i])\n",
        "\n",
        "        nums = [x for x in nums if x % 2 == 1]\n",
        "\n",
        "        num += nums\n",
        "        return num\n",
        ""
      ],
      "metadata": {
        "id": "IQNpiRjtOfhd"
      },
      "execution_count": 3,
      "outputs": []
    },
    {
      "cell_type": "code",
      "source": [
        "print(\"The entered array is:\")\n",
        "print(nums)\n",
        "output = Solution()\n",
        "print('\\nThe sorted array by parity is:')\n",
        "print(output.sortArrayByParity(nums))"
      ],
      "metadata": {
        "colab": {
          "base_uri": "https://localhost:8080/"
        },
        "id": "CVzTcy1HOgkK",
        "outputId": "3d68ad13-8287-44e8-ec3f-965af319114d"
      },
      "execution_count": 9,
      "outputs": [
        {
          "output_type": "stream",
          "name": "stdout",
          "text": [
            "The entered array is:\n",
            "[1, 2, 3, 4, 6]\n",
            "\n",
            "The sorted array by parity is:\n",
            "[2, 4, 6, 1, 3]\n"
          ]
        }
      ]
    },
    {
      "cell_type": "code",
      "source": [],
      "metadata": {
        "id": "nfBgqEOtPNsD"
      },
      "execution_count": null,
      "outputs": []
    }
  ]
}