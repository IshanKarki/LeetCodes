{
  "nbformat": 4,
  "nbformat_minor": 0,
  "metadata": {
    "colab": {
      "provenance": [],
      "authorship_tag": "ABX9TyM+Ci4/sQ08CT29AAKL4XZU",
      "include_colab_link": true
    },
    "kernelspec": {
      "name": "python3",
      "display_name": "Python 3"
    },
    "language_info": {
      "name": "python"
    }
  },
  "cells": [
    {
      "cell_type": "markdown",
      "metadata": {
        "id": "view-in-github",
        "colab_type": "text"
      },
      "source": [
        "<a href=\"https://colab.research.google.com/github/IshanKarki/LeetCodes/blob/main/Best%20time%20to%20buy%20and%20sell%20stocks/Best_time_to_buy_and_sell_stocks.ipynb\" target=\"_parent\"><img src=\"https://colab.research.google.com/assets/colab-badge.svg\" alt=\"Open In Colab\"/></a>"
      ]
    },
    {
      "cell_type": "markdown",
      "source": [
        "# BEST TIME TO BUY AND SELL STOCKS"
      ],
      "metadata": {
        "id": "zA8nRQyANUkE"
      }
    },
    {
      "cell_type": "markdown",
      "source": [
        "You are given an array prices where prices [ i ] is the price of a given stock on the ith day.\n",
        "\n",
        "You want to **maximize your profit** by choosing a single day to buy one stock and choosing a different day in the future to sell that stock.\n",
        "\n",
        "Return the maximum profit you can achieve from this transaction. If you cannot achieve any profit, return 0.\n",
        "\n",
        "    Example 1:\n",
        "    Input: prices = [7,1,5,3,6,4]\n",
        "    Output: 5\n",
        "    Explanation: Buy on day 2 (price = 1) and sell on day 5 (price = 6), profit = 6-1 = 5.\n",
        "    Note that buying on day 2 and selling on day 1 is not allowed because you must buy before you sell.\n",
        "\n",
        "    Example 2:\n",
        "    Input: prices = [7,6,4,3,1]\n",
        "    Output: 0\n",
        "    Explanation: In this case, no transactions are done and the max profit = 0.\n",
        "\n",
        "    Example 3:\n",
        "    Input: prices = [2,4,1]\n",
        "    Output: 2\n",
        "\n",
        "    Example 4:\n",
        "    Input: prices = [2,1,2,1,0,1,2]\n",
        "    Output: 2\n",
        "\n",
        "    Example 5:\n",
        "    Input: prices = [4,7,2,1]\n",
        "    Output: 3\n",
        "\n",
        "    Example 6:\n",
        "    Input: prices = [7,2,4,1]\n",
        "    Output: 2"
      ],
      "metadata": {
        "id": "Y6f_yngqNkRj"
      }
    },
    {
      "cell_type": "code",
      "source": [
        "#lets take input from user\n",
        "prices = []\n",
        "num = input('Enter the number of days for the stock prices:  ')\n",
        "for i in range(int(num)):\n",
        "  x = int(input('Enter the stock price: '))\n",
        "  prices.append(x)\n",
        "\n",
        "print(prices)"
      ],
      "metadata": {
        "colab": {
          "base_uri": "https://localhost:8080/"
        },
        "id": "Uo9gbkM0PBz7",
        "outputId": "f17051b5-9949-49a0-d0cc-5f7415e36f06"
      },
      "execution_count": 4,
      "outputs": [
        {
          "output_type": "stream",
          "name": "stdout",
          "text": [
            "Enter the number of days for the stock prices:  4\n",
            "Enter the stock price: 7\n",
            "Enter the stock price: 2\n",
            "Enter the stock price: 4\n",
            "Enter the stock price: 1\n",
            "[7, 2, 4, 1]\n"
          ]
        }
      ]
    },
    {
      "cell_type": "code",
      "execution_count": 5,
      "metadata": {
        "id": "SCHj8ZeiNRMF"
      },
      "outputs": [],
      "source": [
        "class Solution:\n",
        "  def maxProfit(self, prices):\n",
        "    profit = 0\n",
        "    buy = prices[0] #we assume the buy to be the first price\n",
        "\n",
        "    for sell in prices:\n",
        "      if sell > buy: #check if this condition is true, if its true then we know that the first element is not the largest, if its false we also know that the first element is the largest\n",
        "        profit = max(profit, sell-buy) #if any other element is greater than first then we update profit value to be bigger, say [1,4], then 4 > 1 = True, hence profit = 4-1= 3\n",
        "      else: #this means that the case is that the first element is the largest, say [7,2,4,1], 2 > 7 = False, hence we update the value of buy to be 2, then at 4 > 2 =True, then profit = 4-2= 2\n",
        "        buy = sell\n",
        "\n",
        "    return profit"
      ]
    },
    {
      "cell_type": "code",
      "source": [
        "output = Solution()\n",
        "print(prices)\n",
        "print(output.maxProfit(prices))"
      ],
      "metadata": {
        "colab": {
          "base_uri": "https://localhost:8080/"
        },
        "id": "_8FRA_6NO7BS",
        "outputId": "ce6c4519-5f5b-4fe6-c66b-357fa3ad1a80"
      },
      "execution_count": 7,
      "outputs": [
        {
          "output_type": "stream",
          "name": "stdout",
          "text": [
            "[7, 2, 4, 1]\n",
            "2\n"
          ]
        }
      ]
    },
    {
      "cell_type": "code",
      "source": [],
      "metadata": {
        "id": "vCayc4LXQE6P"
      },
      "execution_count": null,
      "outputs": []
    }
  ]
}