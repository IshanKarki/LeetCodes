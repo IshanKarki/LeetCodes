{
  "nbformat": 4,
  "nbformat_minor": 0,
  "metadata": {
    "colab": {
      "provenance": [],
      "authorship_tag": "ABX9TyPDnk6EwF76e+LuFpEhDvxi",
      "include_colab_link": true
    },
    "kernelspec": {
      "name": "python3",
      "display_name": "Python 3"
    },
    "language_info": {
      "name": "python"
    }
  },
  "cells": [
    {
      "cell_type": "markdown",
      "metadata": {
        "id": "view-in-github",
        "colab_type": "text"
      },
      "source": [
        "<a href=\"https://colab.research.google.com/github/IshanKarki/LeetCodes/blob/main/Valid%20Parentheses/Valid_Parentheses.ipynb\" target=\"_parent\"><img src=\"https://colab.research.google.com/assets/colab-badge.svg\" alt=\"Open In Colab\"/></a>"
      ]
    },
    {
      "cell_type": "code",
      "execution_count": 18,
      "metadata": {
        "colab": {
          "base_uri": "https://localhost:8080/"
        },
        "id": "VZKKSpn4EkUx",
        "outputId": "caba49f4-0dfa-4208-e1f3-8d2a7eecd9dd"
      },
      "outputs": [
        {
          "output_type": "stream",
          "name": "stdout",
          "text": [
            "Enter the parentheses: [{()}]\n",
            "[{()}]\n"
          ]
        }
      ],
      "source": [
        "# lets take the input from the user first\n",
        "# we take a string from the user and return a bool check if the parentheses are valid or not.\n",
        "s = input('Enter the parentheses: ')\n",
        "\n",
        "# Now to check if the input is a parentheses as its a string so lets throw an exception if the entered string is other than parentheses\n",
        "for i in s:\n",
        "  if i not in ['(',')','[',']','{','}']:\n",
        "    raise Exception(\"Sorry!! The entered string isn't a parentheses.\")\n",
        "    print(\"Please enter a string that is a parentheses.\")\n",
        "\n",
        "print(s)"
      ]
    },
    {
      "cell_type": "code",
      "source": [
        "# Now to check if the entered string is a valid parentheses\n",
        "# We can implement stack\n",
        "class Solution:\n",
        "  def isValid(self, s):\n",
        "    stack = []\n",
        "    # lets create a dictionary to map the correct parentheses\n",
        "    pairs = {\n",
        "      '(' : ')',\n",
        "      '{' : '}',\n",
        "      '[' : ']'\n",
        "    }\n",
        "\n",
        "    for bracket in s:\n",
        "      if bracket in pairs:\n",
        "        stack.append(bracket)\n",
        "      elif bracket != pairs[stack.pop()]:\n",
        "        return False\n",
        "\n",
        "    return len(stack) == 0 #as we know if the parentheses is valid, we pop every inserted bracket in stack, thus if the stack is empty this means its valid.\n"
      ],
      "metadata": {
        "id": "UoeAUIWcGyWG"
      },
      "execution_count": 19,
      "outputs": []
    },
    {
      "cell_type": "code",
      "source": [
        "output = Solution()\n",
        "print(\"The entered string is:\", s)\n",
        "print(output.isValid(s))"
      ],
      "metadata": {
        "colab": {
          "base_uri": "https://localhost:8080/"
        },
        "id": "dEmuYF8WJ-28",
        "outputId": "04dc8f86-08b5-483f-e0c2-7a8529534d8f"
      },
      "execution_count": 20,
      "outputs": [
        {
          "output_type": "stream",
          "name": "stdout",
          "text": [
            "The entered string is: [{()}]\n",
            "True\n"
          ]
        }
      ]
    },
    {
      "cell_type": "code",
      "source": [],
      "metadata": {
        "id": "Syq9T6PsKEZx"
      },
      "execution_count": null,
      "outputs": []
    }
  ]
}