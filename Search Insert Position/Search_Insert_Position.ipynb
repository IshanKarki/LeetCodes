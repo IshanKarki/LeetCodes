{
  "nbformat": 4,
  "nbformat_minor": 0,
  "metadata": {
    "colab": {
      "provenance": [],
      "authorship_tag": "ABX9TyN6/8pApxvrm+v8cM3iRUyf",
      "include_colab_link": true
    },
    "kernelspec": {
      "name": "python3",
      "display_name": "Python 3"
    },
    "language_info": {
      "name": "python"
    }
  },
  "cells": [
    {
      "cell_type": "markdown",
      "metadata": {
        "id": "view-in-github",
        "colab_type": "text"
      },
      "source": [
        "<a href=\"https://colab.research.google.com/github/IshanKarki/LeetCodes/blob/main/Search%20Insert%20Position/Search_Insert_Position.ipynb\" target=\"_parent\"><img src=\"https://colab.research.google.com/assets/colab-badge.svg\" alt=\"Open In Colab\"/></a>"
      ]
    },
    {
      "cell_type": "markdown",
      "source": [
        "# Search Insert Position\n",
        "Given a sorted array of distinct integers and a target value, return the index if the target is found. If not, return the index where it would be if it were inserted in order.\n",
        "\n",
        "You must write an algorithm with ***O(log n)*** runtime complexity.\n",
        "\n",
        "\n",
        "\n",
        "    Example 1:\n",
        "    Input: nums = [1,3,5,6], target = 5\n",
        "    Output: 2\n",
        "\n",
        "    Example 2:\n",
        "    Input: nums = [1,3,5,6], target = 2\n",
        "    Output: 1\n",
        "  \n",
        "    Example 3:\n",
        "    Input: nums = [1,3,5,6], target = 7\n",
        "    Output: 4\n",
        ""
      ],
      "metadata": {
        "id": "s1lrCDPPUz3h"
      }
    },
    {
      "cell_type": "code",
      "source": [
        "#lets take input from the user\n",
        "num = input('Enter the numbers in the array separated by space:   ')\n",
        "num = num.split()\n",
        "nums = []\n",
        "target = int(input('Enter the target value:  '))\n",
        "\n",
        "for i in range(len(num)):\n",
        "  value = int(num[i])\n",
        "  nums.append(value)\n",
        "\n",
        "print(nums)"
      ],
      "metadata": {
        "colab": {
          "base_uri": "https://localhost:8080/"
        },
        "id": "8BlkMT04U-Hz",
        "outputId": "04ad9923-dbfe-499a-a551-35634f4b3994"
      },
      "execution_count": 8,
      "outputs": [
        {
          "output_type": "stream",
          "name": "stdout",
          "text": [
            "Enter the numbers in the array separated by space:   1 3 5 6\n",
            "Enter the target value:  7\n",
            "[1, 3, 5, 6]\n"
          ]
        }
      ]
    },
    {
      "cell_type": "markdown",
      "source": [
        "Lets have a linear, straight-forward approach to the solution."
      ],
      "metadata": {
        "id": "ODPjKrJ-WHt5"
      }
    },
    {
      "cell_type": "code",
      "source": [
        "class Solution:\n",
        "  def searchInsert(self, nums, target):\n",
        "    num = nums.copy()\n",
        "    if target in nums:\n",
        "      return nums.index(target) #returns the index value of the target if target is not present in nums list\n",
        "\n",
        "    for i in range(len(nums)):\n",
        "      num.append(target)\n",
        "      num.sort()\n",
        "      return num.index(target)"
      ],
      "metadata": {
        "id": "9OHuAYviVjDT"
      },
      "execution_count": 9,
      "outputs": []
    },
    {
      "cell_type": "code",
      "source": [
        "output = Solution()\n",
        "print('nums =', nums, end = ', ')\n",
        "print('target =', target)\n",
        "print('Output:  ', end = '')\n",
        "print(output.searchInsert(nums, target))"
      ],
      "metadata": {
        "colab": {
          "base_uri": "https://localhost:8080/"
        },
        "id": "_ydfwVFvWrOG",
        "outputId": "fc2f13d0-0b99-483d-da11-ec6a479bee98"
      },
      "execution_count": 10,
      "outputs": [
        {
          "output_type": "stream",
          "name": "stdout",
          "text": [
            "nums = [1, 3, 5, 6], target = 7\n",
            "Output:  4\n"
          ]
        }
      ]
    },
    {
      "cell_type": "code",
      "source": [],
      "metadata": {
        "id": "DLgBrdkEXAV-"
      },
      "execution_count": null,
      "outputs": []
    }
  ]
}