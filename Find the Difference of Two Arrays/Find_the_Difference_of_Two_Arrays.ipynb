{
  "nbformat": 4,
  "nbformat_minor": 0,
  "metadata": {
    "colab": {
      "provenance": [],
      "authorship_tag": "ABX9TyMDEPv5WkEy0guOlqcB8sm3",
      "include_colab_link": true
    },
    "kernelspec": {
      "name": "python3",
      "display_name": "Python 3"
    },
    "language_info": {
      "name": "python"
    }
  },
  "cells": [
    {
      "cell_type": "markdown",
      "metadata": {
        "id": "view-in-github",
        "colab_type": "text"
      },
      "source": [
        "<a href=\"https://colab.research.google.com/github/IshanKarki/LeetCodes/blob/main/Find%20the%20Difference%20of%20Two%20Arrays/Find_the_Difference_of_Two_Arrays.ipynb\" target=\"_parent\"><img src=\"https://colab.research.google.com/assets/colab-badge.svg\" alt=\"Open In Colab\"/></a>"
      ]
    },
    {
      "cell_type": "markdown",
      "source": [
        "# Find the Difference of Two Arrays\n",
        "\n",
        "Given two 0-indexed integer arrays nums1 and nums2, return a list answer of size 2 where:\n",
        "\n",
        "answer[0] is a list of all distinct integers in nums1 which are not present in nums2.\n",
        "answer[1] is a list of all distinct integers in nums2 which are not present in nums1.\n",
        "Note that the integers in the lists may be returned in any order.\n",
        "\n",
        "\n",
        "\n",
        "    Example 1:\n",
        "    Input: nums1 = [1,2,3], nums2 = [2,4,6]\n",
        "    Output: [[1,3],[4,6]]\n",
        "    Explanation:\n",
        "    For nums1, nums1[1] = 2 is present at index 0 of nums2, whereas nums1[0] = 1 and nums1[2] = 3 are not present in nums2.\n",
        "    Therefore, answer[0] = [1,3].\n",
        "    For nums2, nums2[0] = 2 is present at index 1 of nums1,\n",
        "    whereas nums2[1] = 4 and nums2[2] = 6 are not present in nums2. Therefore, answer[1] = [4,6].\n",
        "\n",
        "    Example 2:\n",
        "    Input: nums1 = [1,2,3,3], nums2 = [1,1,2,2]\n",
        "    Output: [[3],[]]\n",
        "    Explanation:\n",
        "    For nums1, nums1[2] and nums1[3] are not present in nums2.\n",
        "    Since nums1[2] == nums1[3], their value is only included once and answer[0] = [3].\n",
        "    Every integer in nums2 is present in nums1. Therefore, answer[1] = []."
      ],
      "metadata": {
        "id": "CJzUvGyTTU1a"
      }
    },
    {
      "cell_type": "code",
      "execution_count": 14,
      "metadata": {
        "colab": {
          "base_uri": "https://localhost:8080/"
        },
        "id": "zwHDh_9pTTse",
        "outputId": "c679771a-b817-4ae1-dfa6-98b96cee7d95"
      },
      "outputs": [
        {
          "output_type": "stream",
          "name": "stdout",
          "text": [
            "Enter the numbers separated by space for nums1:  1 2 3\n",
            "Enter the numbers separated by space for nums2:  2 4 6\n",
            "nums1 = [1, 2, 3]\n",
            "nums2 = [2, 4, 6]\n"
          ]
        }
      ],
      "source": [
        "# lets take input\n",
        "nums1, nums2 = [] , []\n",
        "n1 = input('Enter the numbers separated by space for nums1:  ')\n",
        "n2 = input('Enter the numbers separated by space for nums2:  ')\n",
        "num1 = n1.split()\n",
        "num2 = n2.split()\n",
        "for i in range(len(num1)):\n",
        "  value = int(num1[i])\n",
        "  nums1.append(value)\n",
        "\n",
        "for i in range(len(num2)):\n",
        "  value = int(num2[i])\n",
        "  nums2.append(value)\n",
        "\n",
        "\n",
        "print('nums1 =', nums1)\n",
        "print('nums2 =', nums2)\n"
      ]
    },
    {
      "cell_type": "code",
      "source": [
        "set1 = set(nums1) #we convert the list into set to remove duplicates\n",
        "set2 = set(nums2)\n",
        "\n",
        "class Solution:\n",
        "  def findDifference(self, nums1, nums2):\n",
        "\n",
        "    ans = [[], []] # create a 2D list\n",
        "    for num in set1:\n",
        "      if num not in set2:\n",
        "        ans[0].append(num)\n",
        "    for num in set2:\n",
        "      if num not in set1:\n",
        "        ans[1].append(num)\n",
        "\n",
        "    return ans"
      ],
      "metadata": {
        "id": "_HPUPCgLUkxG"
      },
      "execution_count": 15,
      "outputs": []
    },
    {
      "cell_type": "code",
      "source": [
        "output = Solution()\n",
        "print('nums1 =', nums1)\n",
        "print('nums2 =', nums2)\n",
        "print('The sets are ', set1)\n",
        "print('The sets are ', set2)\n",
        "print('Output: ', end ='')\n",
        "print(output.findDifference(nums1, nums2))"
      ],
      "metadata": {
        "colab": {
          "base_uri": "https://localhost:8080/"
        },
        "id": "oQJ56I6xV3eb",
        "outputId": "17bb5796-58c4-4485-d129-a33cd4cfd0ac"
      },
      "execution_count": 16,
      "outputs": [
        {
          "output_type": "stream",
          "name": "stdout",
          "text": [
            "nums1 = [1, 2, 3]\n",
            "nums2 = [2, 4, 6]\n",
            "The sets are  {1, 2, 3}\n",
            "The sets are  {2, 4, 6}\n",
            "Output: [[1, 3], [4, 6]]\n"
          ]
        }
      ]
    },
    {
      "cell_type": "code",
      "source": [],
      "metadata": {
        "id": "5piNorONV8IW"
      },
      "execution_count": null,
      "outputs": []
    }
  ]
}