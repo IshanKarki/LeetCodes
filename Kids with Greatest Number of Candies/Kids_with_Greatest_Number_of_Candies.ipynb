{
  "nbformat": 4,
  "nbformat_minor": 0,
  "metadata": {
    "colab": {
      "provenance": [],
      "authorship_tag": "ABX9TyM7vBIFcn1SmLqyJUzSmc4w",
      "include_colab_link": true
    },
    "kernelspec": {
      "name": "python3",
      "display_name": "Python 3"
    },
    "language_info": {
      "name": "python"
    }
  },
  "cells": [
    {
      "cell_type": "markdown",
      "metadata": {
        "id": "view-in-github",
        "colab_type": "text"
      },
      "source": [
        "<a href=\"https://colab.research.google.com/github/IshanKarki/LeetCodes/blob/main/Kids%20with%20Greatest%20Number%20of%20Candies/Kids_with_Greatest_Number_of_Candies.ipynb\" target=\"_parent\"><img src=\"https://colab.research.google.com/assets/colab-badge.svg\" alt=\"Open In Colab\"/></a>"
      ]
    },
    {
      "cell_type": "code",
      "execution_count": null,
      "metadata": {
        "id": "Yxg0KX6tSdAJ"
      },
      "outputs": [],
      "source": []
    },
    {
      "cell_type": "markdown",
      "source": [
        "# Kids with Greatest Number of Candies\n",
        "There are n kids with candies. You are given an integer array candies, where each candies[i] represents the number of candies the ith kid has, and an integer extraCandies, denoting the number of extra candies that you have.\n",
        "\n",
        "Return a boolean array result of length n, where result[i] is true if, after giving the ith kid all the extraCandies, they will have the greatest number of candies among all the kids, or false otherwise.\n",
        "\n",
        "Note that multiple kids can have the greatest number of candies.\n",
        "\n",
        "\n",
        "\n",
        "    Example 1:\n",
        "    Input: candies = [2,3,5,1,3], extraCandies = 3\n",
        "    Output: [true,true,true,false,true]\n",
        "    Explanation: If you give all extraCandies to:\n",
        "      - Kid 1, they will have 2 + 3 = 5 candies, which is the greatest among the kids.\n",
        "      - Kid 2, they will have 3 + 3 = 6 candies, which is the greatest among the kids.\n",
        "      - Kid 3, they will have 5 + 3 = 8 candies, which is the greatest among the kids.\n",
        "      - Kid 4, they will have 1 + 3 = 4 candies, which is not the greatest among the kids.\n",
        "      - Kid 5, they will have 3 + 3 = 6 candies, which is the greatest among the kids.\n",
        "\n",
        "    Example 2:\n",
        "    Input: candies = [4,2,1,1,2], extraCandies = 1\n",
        "    Output: [true,false,false,false,false]\n",
        "    Explanation: There is only 1 extra candy.\n",
        "      - Kid 1 will always have the greatest number of candies, even if a different kid is given the extra candy.\n",
        "\n",
        "    Example 3:\n",
        "    Input: candies = [12,1,12], extraCandies = 10\n",
        "    Output: [true,false,true]\n",
        ""
      ],
      "metadata": {
        "id": "DIBrQv4_Syqy"
      }
    },
    {
      "cell_type": "code",
      "source": [
        "#input\n",
        "n = int(input('Enter the number of kids: '))\n",
        "candies = []\n",
        "for i in range(n):\n",
        "  inp = int(input('Enter the candies this kids has: '))\n",
        "  candies.append(inp)\n",
        "\n",
        "extraCandies = int(input('Enter the number of extra candies: '))\n",
        "\n"
      ],
      "metadata": {
        "colab": {
          "base_uri": "https://localhost:8080/"
        },
        "id": "guUueLVJTKzx",
        "outputId": "658eece1-24df-4951-debe-28476454b4a3"
      },
      "execution_count": 2,
      "outputs": [
        {
          "name": "stdout",
          "output_type": "stream",
          "text": [
            "Enter the number of kids: 5\n",
            "Enter the candies this kids has: 2\n",
            "Enter the candies this kids has: 3\n",
            "Enter the candies this kids has: 5\n",
            "Enter the candies this kids has: 1\n",
            "Enter the candies this kids has: 3\n",
            "Enter the number of extra candies: 3\n"
          ]
        }
      ]
    },
    {
      "cell_type": "code",
      "source": [
        "class Solution:\n",
        "    def kidsWithCandies(self, candies, extraCandies):\n",
        "\n",
        "        result = []\n",
        "\n",
        "        for i in candies:\n",
        "            if i + extraCandies >= max(candies):\n",
        "                result.append(True)\n",
        "            else:\n",
        "                result.append(False)\n",
        "\n",
        "        return result"
      ],
      "metadata": {
        "id": "bYBzrZICTLvJ"
      },
      "execution_count": 3,
      "outputs": []
    },
    {
      "cell_type": "code",
      "source": [
        "output = Solution()\n",
        "print(output.kidsWithCandies(candies, extraCandies))"
      ],
      "metadata": {
        "colab": {
          "base_uri": "https://localhost:8080/"
        },
        "id": "a-DL4OYWT2B2",
        "outputId": "72ac3d75-a7c4-489b-8103-4cf0730754d8"
      },
      "execution_count": 4,
      "outputs": [
        {
          "output_type": "stream",
          "name": "stdout",
          "text": [
            "[True, True, True, False, True]\n"
          ]
        }
      ]
    },
    {
      "cell_type": "code",
      "source": [],
      "metadata": {
        "id": "-dKW8tEOT8Gu"
      },
      "execution_count": null,
      "outputs": []
    }
  ]
}