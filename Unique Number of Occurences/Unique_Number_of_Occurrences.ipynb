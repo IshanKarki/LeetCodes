{
  "nbformat": 4,
  "nbformat_minor": 0,
  "metadata": {
    "colab": {
      "provenance": [],
      "authorship_tag": "ABX9TyMCjungAspRbcPMfH6FguEN",
      "include_colab_link": true
    },
    "kernelspec": {
      "name": "python3",
      "display_name": "Python 3"
    },
    "language_info": {
      "name": "python"
    }
  },
  "cells": [
    {
      "cell_type": "markdown",
      "metadata": {
        "id": "view-in-github",
        "colab_type": "text"
      },
      "source": [
        "<a href=\"https://colab.research.google.com/github/IshanKarki/LeetCodes/blob/main/Unique%20Number%20of%20Occurences/Unique_Number_of_Occurrences.ipynb\" target=\"_parent\"><img src=\"https://colab.research.google.com/assets/colab-badge.svg\" alt=\"Open In Colab\"/></a>"
      ]
    },
    {
      "cell_type": "markdown",
      "source": [
        "# Unique Number of Occurrences\n",
        "Given an array of integers arr, return *true* if the number of occurrences of each value in the array is unique or *false* otherwise.\n",
        "\n",
        "\n",
        "\n",
        "    Example 1:\n",
        "    Input: arr = [1,2,2,1,1,3]\n",
        "    Output: true\n",
        "    Explanation: The value 1 has 3 occurrences, 2 has 2 and 3 has 1. No two values have the same number of occurrences.\n",
        "\n",
        "    Example 2:\n",
        "    Input: arr = [1,2]\n",
        "    Output: false\n",
        "\n",
        "    Example 3:\n",
        "    Input: arr = [-3,0,1,-3,1,1,1,-3,10,0]\n",
        "    Output: true"
      ],
      "metadata": {
        "id": "MA-b9AIv8w9G"
      }
    },
    {
      "cell_type": "code",
      "execution_count": 14,
      "metadata": {
        "colab": {
          "base_uri": "https://localhost:8080/"
        },
        "id": "aVorw0o08tuF",
        "outputId": "0fdbb3a4-bffc-4007-a643-e653597977c6"
      },
      "outputs": [
        {
          "output_type": "stream",
          "name": "stdout",
          "text": [
            "Enter the values in the array separated by space:  -3 0 1 -3 1 1 1 -3 10 0\n",
            "[-3, 0, 1, -3, 1, 1, 1, -3, 10, 0]\n"
          ]
        }
      ],
      "source": [
        "# taking input from the user\n",
        "arr = []\n",
        "num = input(\"Enter the values in the array separated by space:  \")\n",
        "num = num.split()\n",
        "for i in num:\n",
        "  num = int(i)\n",
        "  arr.append(num)\n",
        "\n",
        "print(arr)"
      ]
    },
    {
      "cell_type": "code",
      "source": [
        "class Solution:\n",
        "  def uniqueOccurences(self, arr):\n",
        "    arr.sort()\n",
        "    v = []\n",
        "    i = 0\n",
        "    while i < len(arr):\n",
        "      count = 1\n",
        "      while i + 1 < len(arr) and arr[i] == arr[i + 1]:\n",
        "        count += 1\n",
        "        i += 1\n",
        "      v.append(count)\n",
        "      i += 1\n",
        "    v.sort()\n",
        "    for i in range(1, len(v)):\n",
        "      if v[i] == v[i - 1]:\n",
        "        return False\n",
        "    return True"
      ],
      "metadata": {
        "id": "vDAdJPgb99JH"
      },
      "execution_count": 15,
      "outputs": []
    },
    {
      "cell_type": "code",
      "source": [
        "output = Solution()\n",
        "print(\"arr =\", arr)\n",
        "print(output.uniqueOccurences(arr))"
      ],
      "metadata": {
        "colab": {
          "base_uri": "https://localhost:8080/"
        },
        "id": "FW5GOveKDm2s",
        "outputId": "96f7d41d-babd-4098-e427-cf15f5f46d16"
      },
      "execution_count": 16,
      "outputs": [
        {
          "output_type": "stream",
          "name": "stdout",
          "text": [
            "arr = [-3, 0, 1, -3, 1, 1, 1, -3, 10, 0]\n",
            "True\n"
          ]
        }
      ]
    },
    {
      "cell_type": "code",
      "source": [],
      "metadata": {
        "id": "GnNZQsF-DroK"
      },
      "execution_count": null,
      "outputs": []
    }
  ]
}