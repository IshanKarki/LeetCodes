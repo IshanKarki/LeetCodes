{
  "nbformat": 4,
  "nbformat_minor": 0,
  "metadata": {
    "colab": {
      "provenance": [],
      "authorship_tag": "ABX9TyO/Z797o+7PHRAm0VumriyL",
      "include_colab_link": true
    },
    "kernelspec": {
      "name": "python3",
      "display_name": "Python 3"
    },
    "language_info": {
      "name": "python"
    }
  },
  "cells": [
    {
      "cell_type": "markdown",
      "metadata": {
        "id": "view-in-github",
        "colab_type": "text"
      },
      "source": [
        "<a href=\"https://colab.research.google.com/github/IshanKarki/LeetCodes/blob/main/Find%20the%20Index%20of%20the%20First%20Occurence%20in%20String/Find_the_Index_of_the_First_Occurrence_in_a_String.ipynb\" target=\"_parent\"><img src=\"https://colab.research.google.com/assets/colab-badge.svg\" alt=\"Open In Colab\"/></a>"
      ]
    },
    {
      "cell_type": "markdown",
      "source": [
        "# Find the Index of the First Occurrence in a String\n",
        "Given two strings needle and haystack, return the index of the first occurrence of needle in haystack, or -1 if needle is not part of haystack.\n",
        "\n",
        "\n",
        "\n",
        "    Example 1:\n",
        "    Input: haystack = \"sadbutsad\", needle = \"sad\"\n",
        "    Output: 0\n",
        "    Explanation: \"sad\" occurs at index 0 and 6.\n",
        "    The first occurrence is at index 0, so we return 0.\n",
        "\n",
        "    Example 2:\n",
        "    Input: haystack = \"leetcode\", needle = \"leeto\"\n",
        "    Output: -1\n",
        "    Explanation: \"leeto\" did not occur in \"leetcode\", so we return -1."
      ],
      "metadata": {
        "id": "Srv5LB70QM5i"
      }
    },
    {
      "cell_type": "code",
      "source": [
        "#input from user\n",
        "haystack = input('Enter the haystack:  ')\n",
        "needle = input('Enter the needle:  ')\n"
      ],
      "metadata": {
        "colab": {
          "base_uri": "https://localhost:8080/"
        },
        "id": "JhJLSYElQVPk",
        "outputId": "2ddf2a7b-8247-4b39-d7b5-0adbe3c44200"
      },
      "execution_count": 7,
      "outputs": [
        {
          "name": "stdout",
          "output_type": "stream",
          "text": [
            "Enter the haystack:  leetcode\n",
            "Enter the needle:  leeto\n"
          ]
        }
      ]
    },
    {
      "cell_type": "code",
      "source": [
        "\n",
        "class Solution:\n",
        "  def strStr(self, haystack, needle):\n",
        "\n",
        "    for i in range(len(haystack) - len(needle) - 1):\n",
        "      if haystack[i:i + len(needle)] == needle:\n",
        "        return i\n",
        "    return -1"
      ],
      "metadata": {
        "id": "2laP50aUQghJ"
      },
      "execution_count": 8,
      "outputs": []
    },
    {
      "cell_type": "code",
      "source": [
        "output = Solution()\n",
        "print('haystack =', haystack, end = ', ')\n",
        "print('needle =', needle)\n",
        "print('Output: ', end = '')\n",
        "print(output.strStr(haystack, needle))"
      ],
      "metadata": {
        "colab": {
          "base_uri": "https://localhost:8080/"
        },
        "id": "hWZsEWGLQ3-v",
        "outputId": "1f7c5896-3370-493e-bfca-0da8ac871e5a"
      },
      "execution_count": 9,
      "outputs": [
        {
          "output_type": "stream",
          "name": "stdout",
          "text": [
            "haystack = leetcode, needle = leeto\n",
            "Output: -1\n"
          ]
        }
      ]
    },
    {
      "cell_type": "code",
      "source": [],
      "metadata": {
        "id": "qjgGEaxmRJ8l"
      },
      "execution_count": null,
      "outputs": []
    }
  ]
}