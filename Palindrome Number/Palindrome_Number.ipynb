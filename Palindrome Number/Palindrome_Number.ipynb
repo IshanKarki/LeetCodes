{
  "nbformat": 4,
  "nbformat_minor": 0,
  "metadata": {
    "colab": {
      "provenance": [],
      "authorship_tag": "ABX9TyMYz/M4lr6CAhHuPCuUEWZ0",
      "include_colab_link": true
    },
    "kernelspec": {
      "name": "python3",
      "display_name": "Python 3"
    },
    "language_info": {
      "name": "python"
    }
  },
  "cells": [
    {
      "cell_type": "markdown",
      "metadata": {
        "id": "view-in-github",
        "colab_type": "text"
      },
      "source": [
        "<a href=\"https://colab.research.google.com/github/IshanKarki/LeetCodes/blob/main/Palindrome%20Number/Palindrome_Number.ipynb\" target=\"_parent\"><img src=\"https://colab.research.google.com/assets/colab-badge.svg\" alt=\"Open In Colab\"/></a>"
      ]
    },
    {
      "cell_type": "markdown",
      "source": [
        "# Palindrome Number\n",
        "\n",
        "Given an integer x, return true if x is a\n",
        "palindrome, and false otherwise.\n",
        "\n",
        "\n",
        "    Example 1:\n",
        "    Input: x = 121\n",
        "    Output: true\n",
        "    Explanation: 121 reads as 121 from left to right and from right to left.\n",
        "\n",
        "    Example 2:\n",
        "    Input: x = -121\n",
        "    Output: false\n",
        "    Explanation: From left to right, it reads -121. From right to left, it becomes 121-. Therefore it is not a palindrome.\n",
        "\n",
        "    Example 3:\n",
        "    Input: x = 10\n",
        "    Output: false\n",
        "    Explanation: Reads 01 from right to left. Therefore it is not a palindrome.\n",
        ""
      ],
      "metadata": {
        "id": "NP04EU_axxeE"
      }
    },
    {
      "cell_type": "code",
      "execution_count": 8,
      "metadata": {
        "id": "EfCCIlJdxsmI"
      },
      "outputs": [],
      "source": [
        "class Solution:\n",
        "  def isPalindrome(self, x):\n",
        "    x = str(x)\n",
        "    if x[::-1] == x:\n",
        "      print(x[::-1], '=', x)\n",
        "    else:\n",
        "      print(x[::-1], '!=', x)\n",
        "\n",
        "    return x[::-1] == x #return True if reverse of the input string are equal."
      ]
    },
    {
      "cell_type": "code",
      "source": [
        "x = int(input(\"Enter the Number: \"))\n",
        "output = Solution()\n",
        "print(output.isPalindrome(x))"
      ],
      "metadata": {
        "colab": {
          "base_uri": "https://localhost:8080/"
        },
        "id": "_do-94qc0Pda",
        "outputId": "44a35def-39b6-43e2-92cb-f40ff0339c36"
      },
      "execution_count": 10,
      "outputs": [
        {
          "output_type": "stream",
          "name": "stdout",
          "text": [
            "Enter the Number: 121\n",
            "121 = 121\n",
            "True\n"
          ]
        }
      ]
    },
    {
      "cell_type": "code",
      "source": [],
      "metadata": {
        "id": "vsBJqbZx08tb"
      },
      "execution_count": null,
      "outputs": []
    }
  ]
}