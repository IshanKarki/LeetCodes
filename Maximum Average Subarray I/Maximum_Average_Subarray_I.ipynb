{
  "nbformat": 4,
  "nbformat_minor": 0,
  "metadata": {
    "colab": {
      "provenance": [],
      "authorship_tag": "ABX9TyNt82HGLgaNt6sLDaVKVfOR",
      "include_colab_link": true
    },
    "kernelspec": {
      "name": "python3",
      "display_name": "Python 3"
    },
    "language_info": {
      "name": "python"
    }
  },
  "cells": [
    {
      "cell_type": "markdown",
      "metadata": {
        "id": "view-in-github",
        "colab_type": "text"
      },
      "source": [
        "<a href=\"https://colab.research.google.com/github/IshanKarki/LeetCodes/blob/main/Maximum%20Average%20Subarray%20I/Maximum_Average_Subarray_I.ipynb\" target=\"_parent\"><img src=\"https://colab.research.google.com/assets/colab-badge.svg\" alt=\"Open In Colab\"/></a>"
      ]
    },
    {
      "cell_type": "markdown",
      "source": [
        "# Maximum Average Subarray I\n",
        "\n",
        "*(Sliding window problem)*\n",
        "\n",
        "You are given an integer array nums consisting of n elements, and an integer k.\n",
        "\n",
        "Find a contiguous subarray whose length is equal to k that has the maximum average value and return this value. Any answer with a calculation error less than 10-5 will be accepted.\n",
        "\n",
        "\n",
        "    Example 1:\n",
        "    Input: nums = [1,12,-5,-6,50,3], k = 4\n",
        "    Output: 12.75000\n",
        "    Explanation: Maximum average is (12 - 5 - 6 + 50) / 4 = 51 / 4 = 12.75\n",
        "\n",
        "    Example 2:\n",
        "    Input: nums = [5], k = 1\n",
        "    Output: 5.00000"
      ],
      "metadata": {
        "id": "lNR5ypjQL-07"
      }
    },
    {
      "cell_type": "code",
      "source": [
        "#input\n",
        "k = int(input('Enter the value of k:  '))\n",
        "n = int(input('Enter how many integers in the array:  '))\n",
        "nums = []\n",
        "\n",
        "for i in range(n):\n",
        "  value = int(input('Enter the value of the integer:  '))\n",
        "  nums.append(value)\n",
        "\n",
        "print('nums =', nums)\n",
        "print('k =', k)"
      ],
      "metadata": {
        "colab": {
          "base_uri": "https://localhost:8080/"
        },
        "id": "NoD-ZZR1MPqG",
        "outputId": "e0aa813d-eb18-49d2-e88c-780988300548"
      },
      "execution_count": 2,
      "outputs": [
        {
          "output_type": "stream",
          "name": "stdout",
          "text": [
            "Enter the value of k:  4\n",
            "Enter how many integers in the array:  6\n",
            "Enter the value of the integer:  1\n",
            "Enter the value of the integer:  12\n",
            "Enter the value of the integer:  -5\n",
            "Enter the value of the integer:  -6\n",
            "Enter the value of the integer:  50\n",
            "Enter the value of the integer:  3\n",
            "nums = [1, 12, -5, -6, 50, 3]\n",
            "k = 4\n"
          ]
        }
      ]
    },
    {
      "cell_type": "code",
      "source": [
        "class Solution:\n",
        "  def findMaxAverage(self, nums, k):\n",
        "    currSum = 0\n",
        "    for i in range(k):\n",
        "      currSum += nums[i]\n",
        "    maxSum = currSum\n",
        "    left = 0\n",
        "    right = k\n",
        "    while right < len(nums): # sliding window\n",
        "      currSum -= nums[left] # to move index now, we subtract the leftmost value to add to the right\n",
        "      left += 1 #shift left index as we are moving to the right\n",
        "      currSum += nums[right] # add the right element value to sum\n",
        "      right += 1 #shift right index\n",
        "      maxSum = max(maxSum, currSum) #max of the sum\n",
        "\n",
        "    return maxSum / k #return float value of max average"
      ],
      "metadata": {
        "id": "llOYcIm-NwbN"
      },
      "execution_count": 3,
      "outputs": []
    },
    {
      "cell_type": "code",
      "source": [
        "output = Solution()\n",
        "print(output.findMaxAverage(nums, k))"
      ],
      "metadata": {
        "colab": {
          "base_uri": "https://localhost:8080/"
        },
        "id": "VPMtfn6CPl7y",
        "outputId": "a0f35c6d-93f9-4c99-c535-b0f51ab900af"
      },
      "execution_count": 4,
      "outputs": [
        {
          "output_type": "stream",
          "name": "stdout",
          "text": [
            "12.75\n"
          ]
        }
      ]
    },
    {
      "cell_type": "code",
      "source": [],
      "metadata": {
        "id": "BTGyke5MPrm8"
      },
      "execution_count": null,
      "outputs": []
    }
  ]
}