{
  "nbformat": 4,
  "nbformat_minor": 0,
  "metadata": {
    "colab": {
      "provenance": [],
      "authorship_tag": "ABX9TyPMqwUPq0y+cwfM3Ur/Rv50",
      "include_colab_link": true
    },
    "kernelspec": {
      "name": "python3",
      "display_name": "Python 3"
    },
    "language_info": {
      "name": "python"
    }
  },
  "cells": [
    {
      "cell_type": "markdown",
      "metadata": {
        "id": "view-in-github",
        "colab_type": "text"
      },
      "source": [
        "<a href=\"https://colab.research.google.com/github/IshanKarki/LeetCodes/blob/main/Product%20of%20Array%20Except%20Self/Product_of_Array_Except_Self.ipynb\" target=\"_parent\"><img src=\"https://colab.research.google.com/assets/colab-badge.svg\" alt=\"Open In Colab\"/></a>"
      ]
    },
    {
      "cell_type": "markdown",
      "source": [
        "# Product of Array Except Self\n",
        "Given an integer array nums, return an array answer such that answer[i] is equal to the product of all the elements of nums except nums[i].\n",
        "\n",
        "The product of any prefix or suffix of nums is guaranteed to fit in a 32-bit integer.\n",
        "\n",
        "***You must write an algorithm that runs in O(n) time and without using the division operation.***\n",
        "\n",
        "\n",
        "    Example 1:\n",
        "    Input: nums = [1,2,3,4]\n",
        "    Output: [24,12,8,6]\n",
        "\n",
        "    Example 2:\n",
        "    Input: nums = [-1,1,0,-3,3]\n",
        "    Output: [0,0,9,0,0]"
      ],
      "metadata": {
        "id": "VV8-TzkTCpvF"
      }
    },
    {
      "cell_type": "code",
      "execution_count": null,
      "metadata": {
        "colab": {
          "base_uri": "https://localhost:8080/"
        },
        "id": "f7U5PM1RCjm2",
        "outputId": "6b311399-61f1-482d-9466-62c5213023a3"
      },
      "outputs": [
        {
          "output_type": "stream",
          "name": "stdout",
          "text": [
            "Enter how many integers in the array?:  4\n",
            "Enter the integer value:  1\n",
            "Enter the integer value:  2\n",
            "Enter the integer value:  3\n",
            "Enter the integer value:  4\n",
            "nums = [1, 2, 3, 4]\n"
          ]
        }
      ],
      "source": [
        "# lets take input from the user\n",
        "nums = []\n",
        "num = int(input('Enter how many integers in the array?:  '))\n",
        "for i in range(num):\n",
        "  number = int(input('Enter the integer value:  '))\n",
        "  nums.append(number)\n",
        "\n",
        "print('nums =', nums)"
      ]
    },
    {
      "cell_type": "code",
      "source": [
        "class Solution1:\n",
        "  def productExceptSelf(self, nums):\n",
        "\n",
        "    length = len(nums)\n",
        "    left = [1] * length\n",
        "    right = [1] * length\n",
        "    product = [1] * length\n",
        "\n",
        "    for i in range(1, length):\n",
        "      left[i] = left[i-1] * nums[i-1]\n",
        "\n",
        "    for i in range(length - 2, -1, -1):\n",
        "      right[i] = right[i+1] * nums[i+1]\n",
        "\n",
        "    for i in range(length):\n",
        "      product[i] = left[i] * right[i]\n",
        "\n",
        "    return product"
      ],
      "metadata": {
        "id": "69nvhWfWDhb4"
      },
      "execution_count": null,
      "outputs": []
    },
    {
      "cell_type": "code",
      "source": [
        "output = Solution1()\n",
        "print('nums =', nums)\n",
        "print('output =', end = ' ')\n",
        "print(output.productExceptSelf(nums))"
      ],
      "metadata": {
        "colab": {
          "base_uri": "https://localhost:8080/"
        },
        "id": "J9QEw7rTEUb-",
        "outputId": "5775eb48-41e0-4555-e13c-da6e151a3722"
      },
      "execution_count": null,
      "outputs": [
        {
          "output_type": "stream",
          "name": "stdout",
          "text": [
            "nums = [1, 2, 3, 4]\n",
            "output = [24, 12, 8, 6]\n"
          ]
        }
      ]
    },
    {
      "cell_type": "markdown",
      "source": [
        "We can make this solution slightly better by eliminating the possibility to iterate the final time for the product, and instead update the value of the product keeping the right most memory in right, as shown in the solution2 below.\n"
      ],
      "metadata": {
        "id": "I8UnS8HmExYo"
      }
    },
    {
      "cell_type": "code",
      "source": [
        "class Solution2:\n",
        "  def productExceptSelf(self, nums):\n",
        "\n",
        "    length = len(nums)\n",
        "    product = [1] * length\n",
        "\n",
        "    for i in range(1, length):\n",
        "      product[i] = product[i-1] * nums[i-1]\n",
        "\n",
        "    right = nums[-1]\n",
        "    for i in range(length-2, -1, -1):\n",
        "      product[i] *= right\n",
        "      right *= nums[i]\n",
        "\n",
        "    return product"
      ],
      "metadata": {
        "id": "-QKiEUBqEcst"
      },
      "execution_count": null,
      "outputs": []
    },
    {
      "cell_type": "code",
      "source": [
        "output =  Solution2()\n",
        "print('nums =', nums)\n",
        "print('output = ', end = ' ')\n",
        "print(output.productExceptSelf(nums))"
      ],
      "metadata": {
        "colab": {
          "base_uri": "https://localhost:8080/"
        },
        "id": "931e_AYsGU7M",
        "outputId": "8b0dd202-8b89-4850-ad71-e4722c4ec8da"
      },
      "execution_count": null,
      "outputs": [
        {
          "output_type": "stream",
          "name": "stdout",
          "text": [
            "nums = [1, 2, 3, 4]\n",
            "output =  [24, 12, 8, 6]\n"
          ]
        }
      ]
    },
    {
      "cell_type": "code",
      "source": [],
      "metadata": {
        "id": "zyPQXyPrGhIv"
      },
      "execution_count": null,
      "outputs": []
    }
  ]
}