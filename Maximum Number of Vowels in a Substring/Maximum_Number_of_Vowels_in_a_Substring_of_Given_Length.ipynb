{
  "nbformat": 4,
  "nbformat_minor": 0,
  "metadata": {
    "colab": {
      "provenance": [],
      "authorship_tag": "ABX9TyN++P+ldvXg0bhqCajBP84S",
      "include_colab_link": true
    },
    "kernelspec": {
      "name": "python3",
      "display_name": "Python 3"
    },
    "language_info": {
      "name": "python"
    }
  },
  "cells": [
    {
      "cell_type": "markdown",
      "metadata": {
        "id": "view-in-github",
        "colab_type": "text"
      },
      "source": [
        "<a href=\"https://colab.research.google.com/github/IshanKarki/LeetCodes/blob/main/Maximum%20Number%20of%20Vowels%20in%20a%20Substring/Maximum_Number_of_Vowels_in_a_Substring_of_Given_Length.ipynb\" target=\"_parent\"><img src=\"https://colab.research.google.com/assets/colab-badge.svg\" alt=\"Open In Colab\"/></a>"
      ]
    },
    {
      "cell_type": "markdown",
      "source": [
        "# Maximum Number of Vowels in a Substring of Given Length\n",
        "Given a string s and an integer k, return the maximum number of vowel letters in any substring of s with length k.\n",
        "\n",
        "Vowel letters in English are 'a', 'e', 'i', 'o', and 'u'.\n",
        "\n",
        "\n",
        "\n",
        "    Example 1:\n",
        "    Input: s = \"abciiidef\", k = 3\n",
        "    Output: 3\n",
        "    Explanation: The substring \"iii\" contains 3 vowel letters.\n",
        "\n",
        "    Example 2:\n",
        "    Input: s = \"aeiou\", k = 2\n",
        "    Output: 2\n",
        "    Explanation: Any substring of length 2 contains 2 vowels.\n",
        "\n",
        "    Example 3:\n",
        "    Input: s = \"leetcode\", k = 3\n",
        "    Output: 2\n",
        "    Explanation: \"lee\", \"eet\" and \"ode\" contain 2 vowels."
      ],
      "metadata": {
        "id": "8rz3Z4kUNqnP"
      }
    },
    {
      "cell_type": "code",
      "source": [
        "#input\n",
        "s = input(\"Enter the string:  \")\n",
        "k = int(input(\"Enter the value of k:  \"))\n",
        "\n"
      ],
      "metadata": {
        "colab": {
          "base_uri": "https://localhost:8080/"
        },
        "id": "BZkW97c3N0vq",
        "outputId": "edde1b24-02e0-4261-df21-441dd5843f28"
      },
      "execution_count": 1,
      "outputs": [
        {
          "name": "stdout",
          "output_type": "stream",
          "text": [
            "Enter the string:  aeiou\n",
            "Enter the value of k:  2\n"
          ]
        }
      ]
    },
    {
      "cell_type": "code",
      "source": [
        "class Solution:\n",
        "  def maxVowels(self, s, k):\n",
        "    res = 0\n",
        "    fin_res = 0\n",
        "    for i in range(len(s)):\n",
        "      if s[i] in 'aeiou':\n",
        "        res += 1\n",
        "      if i - k >= 0:\n",
        "        if s[i-k] in 'aeiou':\n",
        "          res -= 1\n",
        "      fin_res = max(fin_res, res)\n",
        "    return fin_res"
      ],
      "metadata": {
        "id": "P75Tan2KN_zr"
      },
      "execution_count": 2,
      "outputs": []
    },
    {
      "cell_type": "code",
      "source": [
        "output = Solution()\n",
        "print(output.maxVowels(s, k))"
      ],
      "metadata": {
        "colab": {
          "base_uri": "https://localhost:8080/"
        },
        "id": "lB33OwOIOf7r",
        "outputId": "902db8de-61a1-493d-d234-c99b3dbab6fd"
      },
      "execution_count": 3,
      "outputs": [
        {
          "output_type": "stream",
          "name": "stdout",
          "text": [
            "2\n"
          ]
        }
      ]
    },
    {
      "cell_type": "code",
      "source": [],
      "metadata": {
        "id": "LnlEqnDJOlZz"
      },
      "execution_count": null,
      "outputs": []
    }
  ]
}