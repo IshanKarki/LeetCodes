{
  "nbformat": 4,
  "nbformat_minor": 0,
  "metadata": {
    "colab": {
      "provenance": [],
      "authorship_tag": "ABX9TyPzgouEo8HMCDKzkh/4k9Sp",
      "include_colab_link": true
    },
    "kernelspec": {
      "name": "python3",
      "display_name": "Python 3"
    },
    "language_info": {
      "name": "python"
    }
  },
  "cells": [
    {
      "cell_type": "markdown",
      "metadata": {
        "id": "view-in-github",
        "colab_type": "text"
      },
      "source": [
        "<a href=\"https://colab.research.google.com/github/IshanKarki/LeetCodes/blob/main/Reverse%20Vowels%20of%20a%20String/Reverse_Vowels_of_a_String.ipynb\" target=\"_parent\"><img src=\"https://colab.research.google.com/assets/colab-badge.svg\" alt=\"Open In Colab\"/></a>"
      ]
    },
    {
      "cell_type": "markdown",
      "source": [
        "# Reverse Vowels of a String\n",
        "Given a string s, reverse only all the vowels in the string and return it.\n",
        "\n",
        "The vowels are 'a', 'e', 'i', 'o', and 'u', and they can appear in both lower and upper cases, more than once.\n",
        "\n",
        "\n",
        "\n",
        "    Example 1:\n",
        "    Input: s = \"hello\"\n",
        "    Output: \"holle\"\n",
        "\n",
        "    Example 2:\n",
        "    Input: s = \"leetcode\"\n",
        "    Output: \"leotcede\"\n",
        ""
      ],
      "metadata": {
        "id": "r5ibJspvKeJU"
      }
    },
    {
      "cell_type": "code",
      "source": [
        "#input take from user\n",
        "s = input('Enter the string: ')\n"
      ],
      "metadata": {
        "colab": {
          "base_uri": "https://localhost:8080/"
        },
        "id": "izNYkawcKqcI",
        "outputId": "51a6b228-2d7a-45ac-901f-4290c337a61b"
      },
      "execution_count": 9,
      "outputs": [
        {
          "name": "stdout",
          "output_type": "stream",
          "text": [
            "Enter the string: leetcode\n"
          ]
        }
      ]
    },
    {
      "cell_type": "code",
      "source": [
        "class Solution1:\n",
        "    def reverseVowels(self, s):\n",
        "\n",
        "        vowels = ''\n",
        "        vowel = 0\n",
        "        string = s\n",
        "        for i in reversed(range(len(s))):\n",
        "            if s[i] in 'aeiouAEIOU':\n",
        "                vowels += s[i]\n",
        "\n",
        "        for j in range(len(s)):\n",
        "            if string[j] in 'aeiouAEIOU':\n",
        "                string = string[:j] + vowels[vowel] + string[j+1:]\n",
        "                vowel += 1\n",
        "\n",
        "        return string"
      ],
      "metadata": {
        "id": "WKuschSuKzld"
      },
      "execution_count": 10,
      "outputs": []
    },
    {
      "cell_type": "code",
      "source": [
        "output1 = Solution1()\n",
        "print(output1.reverseVowels(s))"
      ],
      "metadata": {
        "colab": {
          "base_uri": "https://localhost:8080/"
        },
        "id": "btLbeEd9K6y9",
        "outputId": "5ae7959a-5902-4810-83a0-fef7b86f2b47"
      },
      "execution_count": 11,
      "outputs": [
        {
          "output_type": "stream",
          "name": "stdout",
          "text": [
            "leotcede\n"
          ]
        }
      ]
    },
    {
      "cell_type": "markdown",
      "source": [
        "However, the above having time complexity of O(n) can be made faster with less iterations.\n"
      ],
      "metadata": {
        "id": "Z8KYAQG6LLM3"
      }
    },
    {
      "cell_type": "code",
      "source": [
        "class Solution2:\n",
        "    def reverseVowels(self, s):\n",
        "        i = 0\n",
        "        j = len(s) - 1\n",
        "        s = list(s)\n",
        "\n",
        "        while i < j:\n",
        "            if s[i] in \"aeiouAEIOU\" and s[j] in \"aeiouAEIOU\":\n",
        "                s[i], s[j] = s[j], s[i]\n",
        "                i = i + 1\n",
        "                j = j - 1\n",
        "            elif s[i] in \"aeiouAEIOU\":\n",
        "                j = j - 1\n",
        "            else:\n",
        "                i = i + 1\n",
        "\n",
        "        return ''.join(s)"
      ],
      "metadata": {
        "id": "G3EGZ6fyLGw6"
      },
      "execution_count": 14,
      "outputs": []
    },
    {
      "cell_type": "code",
      "source": [
        "output2 = Solution2()\n",
        "print(output2.reverseVowels(s))"
      ],
      "metadata": {
        "colab": {
          "base_uri": "https://localhost:8080/"
        },
        "id": "o0vmuVI-LkkJ",
        "outputId": "63290040-31dc-4d98-b220-58cf446e9311"
      },
      "execution_count": 15,
      "outputs": [
        {
          "output_type": "stream",
          "name": "stdout",
          "text": [
            "leotcede\n"
          ]
        }
      ]
    },
    {
      "cell_type": "markdown",
      "source": [
        "Although this code also has O(n) time complexity, it has to do less iterations compared to the solution of the for loop. Thus, comparatively this solution is 6 times faster than the first one.\n",
        "\n",
        "***In Contrast,***\n",
        "\n",
        "On Leetcode, I got the runtime of the 1st solution to be ***283ms*** while the 2nd solution's runtime was ***42ms***."
      ],
      "metadata": {
        "id": "HvltqcUSMIrb"
      }
    },
    {
      "cell_type": "code",
      "source": [],
      "metadata": {
        "id": "NgPx5jAzLti8"
      },
      "execution_count": null,
      "outputs": []
    }
  ]
}