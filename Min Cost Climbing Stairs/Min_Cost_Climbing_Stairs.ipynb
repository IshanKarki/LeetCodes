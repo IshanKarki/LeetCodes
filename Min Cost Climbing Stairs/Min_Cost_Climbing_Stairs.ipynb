{
  "nbformat": 4,
  "nbformat_minor": 0,
  "metadata": {
    "colab": {
      "provenance": [],
      "authorship_tag": "ABX9TyPOsjPWnt16DDw20v0V/H4q",
      "include_colab_link": true
    },
    "kernelspec": {
      "name": "python3",
      "display_name": "Python 3"
    },
    "language_info": {
      "name": "python"
    }
  },
  "cells": [
    {
      "cell_type": "markdown",
      "metadata": {
        "id": "view-in-github",
        "colab_type": "text"
      },
      "source": [
        "<a href=\"https://colab.research.google.com/github/IshanKarki/LeetCodes/blob/main/Min%20Cost%20Climbing%20Stairs/Min_Cost_Climbing_Stairs.ipynb\" target=\"_parent\"><img src=\"https://colab.research.google.com/assets/colab-badge.svg\" alt=\"Open In Colab\"/></a>"
      ]
    },
    {
      "cell_type": "markdown",
      "source": [
        "# Min Cost Climbing Stairs\n",
        "You are given an integer array cost where cost[i] is the cost of ith step on a staircase. Once you pay the cost, you can either climb one or two steps.\n",
        "\n",
        "You can either start from the step with index 0, or the step with index 1.\n",
        "\n",
        "Return the minimum cost to reach the top of the floor.\n",
        "\n",
        "\n",
        "\n",
        "    Example 1:\n",
        "    Input: cost = [10,15,20]\n",
        "    Output: 15\n",
        "    Explanation: You will start at index 1.\n",
        "    - Pay 15 and climb two steps to reach the top.\n",
        "    The total cost is 15.\n",
        "\n",
        "    Example 2:\n",
        "    Input: cost = [1,100,1,1,1,100,1,1,100,1]\n",
        "    Output: 6\n",
        "    Explanation: You will start at index 0.\n",
        "    - Pay 1 and climb two steps to reach index 2.\n",
        "    - Pay 1 and climb two steps to reach index 4.\n",
        "    - Pay 1 and climb two steps to reach index 6.\n",
        "    - Pay 1 and climb one step to reach index 7.\n",
        "    - Pay 1 and climb two steps to reach index 9.\n",
        "    - Pay 1 and climb one step to reach the top.\n",
        "    The total cost is 6."
      ],
      "metadata": {
        "id": "D6GNKDMFLNyB"
      }
    },
    {
      "cell_type": "code",
      "source": [
        "# lets take the input from the user\n",
        "cost = []\n",
        "num = int(input('Enter how many stairs are there to the top?:  '))\n",
        "for i in range(num):\n",
        "  inp = int(input('Enter the cost of this stair?:  '))\n",
        "  cost.append(inp)\n",
        "\n",
        "print(cost)"
      ],
      "metadata": {
        "colab": {
          "base_uri": "https://localhost:8080/"
        },
        "id": "Azfugz8sLu_U",
        "outputId": "b2982f1f-a350-4779-bc38-6f89feb98812"
      },
      "execution_count": 8,
      "outputs": [
        {
          "output_type": "stream",
          "name": "stdout",
          "text": [
            "Enter how many stairs are there to the top?:  4\n",
            "Enter the cost of this stair?:  0\n",
            "Enter the cost of this stair?:  1\n",
            "Enter the cost of this stair?:  2\n",
            "Enter the cost of this stair?:  2\n",
            "[0, 1, 2, 2]\n"
          ]
        }
      ]
    },
    {
      "cell_type": "code",
      "execution_count": 9,
      "metadata": {
        "id": "_smHfj4fLFPE"
      },
      "outputs": [],
      "source": [
        "# At first I tried this solution\n",
        "class Solution:\n",
        "    def minCostClimbingStairs(self, cost):\n",
        "\n",
        "        total1 = cost[0]\n",
        "        i = 1\n",
        "        while i < len(cost) - 1:\n",
        "            if cost[i] < cost[i+1]:\n",
        "                total1 += cost[i]\n",
        "                i += 1\n",
        "            else:\n",
        "                total1 += cost[i+1]\n",
        "                i += 2\n",
        "\n",
        "# to start from second term\n",
        "        total2 = cost[1]\n",
        "        i = 2\n",
        "\n",
        "        if i == len(cost) - 1:\n",
        "            return min(total1, total2)\n",
        "        # elif i == len(cost) - 2:\n",
        "        #     total3 = cost[0] + cost[i]\n",
        "        #     return min(total1, total2, total3)\n",
        "\n",
        "        while i < len(cost) - 1:\n",
        "            if cost[i] < cost[i+1]:\n",
        "                total2 += cost[i]\n",
        "                i += 1\n",
        "            else:\n",
        "                total2 += cost[i+1]\n",
        "                i += 2\n",
        "\n",
        "        return min(total1, total2)\n",
        ""
      ]
    },
    {
      "cell_type": "code",
      "source": [
        "output = Solution()\n",
        "print(output.minCostClimbingStairs(cost))"
      ],
      "metadata": {
        "colab": {
          "base_uri": "https://localhost:8080/"
        },
        "id": "n_Mz2GsWLkmO",
        "outputId": "33f00042-c5bf-4d01-ec8c-d774bb053b35"
      },
      "execution_count": 10,
      "outputs": [
        {
          "output_type": "stream",
          "name": "stdout",
          "text": [
            "3\n"
          ]
        }
      ]
    },
    {
      "cell_type": "markdown",
      "source": [
        "This above solution was 90.8 % accurate as it solved around 258/284 testcases, as this approach utilizes the greedy method, as it just looks for the current best as for which step to take in the stairs. However, for solutions like,\n",
        "\n",
        "    cost = [0, 1, 2, 2]\n",
        "The answer should be 2 but from this approach we get 3. Hence, the right way to solve all possible solutions, we will need to use concept of recursion.\n",
        "\n"
      ],
      "metadata": {
        "id": "TIxzLH_YMdGA"
      }
    },
    {
      "cell_type": "code",
      "source": [
        "class Solution:\n",
        "  def minCostClimbingStairs(self, cost):\n",
        "        # identify what is changing from subproblems to subproblems:\n",
        "        # n - step #n    dp(n) - min cost to get to step #n\n",
        "        def dp(n):\n",
        "            # write down base cases\n",
        "            if n < 2:\n",
        "                return cost[n]\n",
        "            # write recursive function based on what you can change (climb one or two steps)\n",
        "            return cost[n] + min(dp(n-1), dp(n-2))\n",
        "\n",
        "\t\t# since we want to know the min cost to get to the final step, we use the code below\n",
        "        length = len(cost)\n",
        "        return min(dp(length-1), dp(length-2))"
      ],
      "metadata": {
        "id": "fM_7YbB_MaEQ"
      },
      "execution_count": 13,
      "outputs": []
    },
    {
      "cell_type": "code",
      "source": [
        "output = Solution()\n",
        "print(output.minCostClimbingStairs(cost))"
      ],
      "metadata": {
        "colab": {
          "base_uri": "https://localhost:8080/"
        },
        "id": "rxsgp0j4NxrB",
        "outputId": "36fc0baa-8bf7-44d3-deb3-d52dec984be6"
      },
      "execution_count": 14,
      "outputs": [
        {
          "output_type": "stream",
          "name": "stdout",
          "text": [
            "2\n"
          ]
        }
      ]
    },
    {
      "cell_type": "code",
      "source": [
        "#thus this 2 is the right answer to the solution."
      ],
      "metadata": {
        "id": "khPyq3E1N3qs"
      },
      "execution_count": null,
      "outputs": []
    }
  ]
}