{
  "nbformat": 4,
  "nbformat_minor": 0,
  "metadata": {
    "colab": {
      "provenance": [],
      "authorship_tag": "ABX9TyP40TvI94SV3cEhOVwLcCkc",
      "include_colab_link": true
    },
    "kernelspec": {
      "name": "python3",
      "display_name": "Python 3"
    },
    "language_info": {
      "name": "python"
    }
  },
  "cells": [
    {
      "cell_type": "markdown",
      "metadata": {
        "id": "view-in-github",
        "colab_type": "text"
      },
      "source": [
        "<a href=\"https://colab.research.google.com/github/IshanKarki/LeetCodes/blob/main/Find%20Pivot%20Index/Find_Pivot_Index.ipynb\" target=\"_parent\"><img src=\"https://colab.research.google.com/assets/colab-badge.svg\" alt=\"Open In Colab\"/></a>"
      ]
    },
    {
      "cell_type": "markdown",
      "source": [
        "# Find Pivot Index\n",
        "Given an array of integers nums, calculate the pivot index of this array.\n",
        "\n",
        "The pivot index is the index where the sum of all the numbers strictly to the left of the index is equal to the sum of all the numbers strictly to the index's right.\n",
        "\n",
        "If the index is on the left edge of the array, then the left sum is 0 because there are no elements to the left. This also applies to the right edge of the array.\n",
        "\n",
        "Return the leftmost pivot index. If no such index exists, return -1.\n",
        "\n",
        "\n",
        "\n",
        "    Example 1:\n",
        "    Input: nums = [1,7,3,6,5,6]\n",
        "    Output: 3\n",
        "    Explanation:\n",
        "    The pivot index is 3.\n",
        "    Left sum = nums[0] + nums[1] + nums[2] = 1 + 7 + 3 = 11\n",
        "    Right sum = nums[4] + nums[5] = 5 + 6 = 11\n",
        "\n",
        "    Example 2:\n",
        "    Input: nums = [1,2,3]\n",
        "    Output: -1\n",
        "    Explanation:\n",
        "    There is no index that satisfies the conditions in the problem statement.\n",
        "\n",
        "    Example 3:\n",
        "    Input: nums = [2,1,-1]\n",
        "    Output: 0\n",
        "    Explanation:\n",
        "    The pivot index is 0.\n",
        "    Left sum = 0 (no elements to the left of index 0)\n",
        "    Right sum = nums[1] + nums[2] = 1 + -1 = 0"
      ],
      "metadata": {
        "id": "snBsWiv2wl6e"
      }
    },
    {
      "cell_type": "code",
      "source": [
        "#lets take input\n",
        "n = input(\"Enter the values in nums separated by space:  \")\n",
        "values = n.split()\n",
        "nums = []\n",
        "for i in range(len(values)):\n",
        "  value = int(values[i])\n",
        "  nums.append(value)\n",
        "\n",
        "print(nums)"
      ],
      "metadata": {
        "colab": {
          "base_uri": "https://localhost:8080/"
        },
        "id": "7U-WSFaswx9i",
        "outputId": "9e767e8f-dc70-4c41-d147-d443da727c99"
      },
      "execution_count": 17,
      "outputs": [
        {
          "output_type": "stream",
          "name": "stdout",
          "text": [
            "Enter the values in nums separated by space:  2 1 -1\n",
            "[2, 1, -1]\n"
          ]
        }
      ]
    },
    {
      "cell_type": "markdown",
      "source": [
        "The problem is approached from two ways:\n",
        "1. Iterating through all elements and checking the values\n",
        "2. Using sliding window\n",
        "\n",
        "# Normal approach\n",
        "Time Complexity : O(n^2)\n"
      ],
      "metadata": {
        "id": "FASEidjL8GIn"
      }
    },
    {
      "cell_type": "code",
      "source": [
        "class Solution1:\n",
        "  def pivotIndex(self, nums):\n",
        "\n",
        "    pivot = 0\n",
        "    while pivot < len(nums):\n",
        "      left = nums[:pivot]\n",
        "      right = nums[pivot+1:]\n",
        "      leftsum = sum(left)\n",
        "      rightsum = sum(right)\n",
        "      if leftsum == rightsum:\n",
        "        return pivot\n",
        "      pivot += 1\n",
        "    return -1"
      ],
      "metadata": {
        "id": "Q_AIjp6O7cOr"
      },
      "execution_count": 18,
      "outputs": []
    },
    {
      "cell_type": "code",
      "source": [
        "output1 = Solution1()\n",
        "print(\"The pivot index is\", end = ' ')\n",
        "print(output1.pivotIndex(nums))"
      ],
      "metadata": {
        "colab": {
          "base_uri": "https://localhost:8080/"
        },
        "id": "eUYsu5t67_JM",
        "outputId": "1cd383db-4cb8-491c-d459-23795111c64a"
      },
      "execution_count": 19,
      "outputs": [
        {
          "output_type": "stream",
          "name": "stdout",
          "text": [
            "The pivot index is 0\n"
          ]
        }
      ]
    },
    {
      "cell_type": "markdown",
      "source": [
        "# Sliding Window approach\n",
        "Time Complexity : O(n)\n",
        "\n",
        "Space Complexity : O(1)"
      ],
      "metadata": {
        "id": "NlSesnby8qJw"
      }
    },
    {
      "cell_type": "code",
      "source": [
        "class Solution2:\n",
        "  def pivotIndex(self, nums):\n",
        "\n",
        "    leftsum, rightsum = 0, sum(nums)  # Initialize leftSum & rightSum to store the sum of all the numbers strictly to the index's left & right respectively...\n",
        "    for idx, ele in enumerate(nums):  # Traverse elements through the loop...\n",
        "      rightsum -= ele\n",
        "      if leftsum == rightsum: # If the sum of all the numbers strictly to the left of the index is equal to the sum of all the numbers strictly to the index's right...\n",
        "        return idx      # Return the pivot index...\n",
        "      leftsum += ele\n",
        "\n",
        "    return -1           # If there is no index that satisfies the conditions in the problem statement..."
      ],
      "metadata": {
        "id": "qGw9rKFo8Zg9"
      },
      "execution_count": 20,
      "outputs": []
    },
    {
      "cell_type": "code",
      "source": [
        "output2 = Solution2()\n",
        "print(\"The pivot index is\", end = ' ')\n",
        "print(output2.pivotIndex(nums))"
      ],
      "metadata": {
        "colab": {
          "base_uri": "https://localhost:8080/"
        },
        "id": "eHl4CcUh9_qR",
        "outputId": "066443ed-13f3-463d-ef39-3fd60f0f99ef"
      },
      "execution_count": 21,
      "outputs": [
        {
          "output_type": "stream",
          "name": "stdout",
          "text": [
            "The pivot index is 0\n"
          ]
        }
      ]
    },
    {
      "cell_type": "code",
      "source": [],
      "metadata": {
        "id": "HMuupQ8C-FaG"
      },
      "execution_count": 21,
      "outputs": []
    }
  ]
}