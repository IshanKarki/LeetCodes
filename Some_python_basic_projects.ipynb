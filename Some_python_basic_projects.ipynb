{
  "nbformat": 4,
  "nbformat_minor": 0,
  "metadata": {
    "colab": {
      "provenance": [],
      "authorship_tag": "ABX9TyO6fXLBt8kiEeV8Rkp6+HW+",
      "include_colab_link": true
    },
    "kernelspec": {
      "name": "python3",
      "display_name": "Python 3"
    },
    "language_info": {
      "name": "python"
    }
  },
  "cells": [
    {
      "cell_type": "markdown",
      "metadata": {
        "id": "view-in-github",
        "colab_type": "text"
      },
      "source": [
        "<a href=\"https://colab.research.google.com/github/IshanKarki/LeetCodes/blob/Python-Basic-Projects/Some_python_basic_projects.ipynb\" target=\"_parent\"><img src=\"https://colab.research.google.com/assets/colab-badge.svg\" alt=\"Open In Colab\"/></a>"
      ]
    },
    {
      "cell_type": "markdown",
      "source": [
        "# This notebook consists a list of python basic projects\n",
        "\n",
        "***1.  Create Acronyms using Python***\n",
        "  \n",
        "Suppose the user types in the word, Artificial Intelligence, then get the output as AI.\n",
        "\n",
        "    Example 1:\n",
        "    user_input = \"Artificial Intelligence\"\n",
        "    OUTPUT: AI\n",
        "\n",
        "    Example 2:\n",
        "    user_input = 'Natural Language Processing'\n",
        "    OUTPUT: NLP\n",
        "\n",
        "    Example 3:\n",
        "    user_input = 'Life is Short, live a little'\n",
        "    OUTPUT: LISLAL\n",
        "\n",
        "    "
      ],
      "metadata": {
        "id": "q_D1SsZVLu4V"
      }
    },
    {
      "cell_type": "code",
      "execution_count": null,
      "metadata": {
        "colab": {
          "base_uri": "https://localhost:8080/"
        },
        "id": "ef9an9cjLuLz",
        "outputId": "9197a4d2-bd57-4ec8-e552-1c72ec3591f8"
      },
      "outputs": [
        {
          "output_type": "stream",
          "name": "stdout",
          "text": [
            "Enter the string:  Natural language processing\n",
            "user_input =  Natural language processing\n",
            "Output: NLP\n"
          ]
        }
      ],
      "source": [
        "#input from user\n",
        "user_input = input('Enter the string:  ')\n",
        "\n",
        "words = user_input.split()\n",
        "words = [word.upper() for word in words]\n",
        "\n",
        "output = ''\n",
        "for word in words:\n",
        "  base = word[0]\n",
        "  output += base\n",
        "\n",
        "print('user_input = ', user_input)\n",
        "print('Output: ', end ='')\n",
        "print(output)"
      ]
    },
    {
      "cell_type": "markdown",
      "source": [
        "\n",
        "***2.   Email Slicer with Python***\n",
        "\n",
        "          Example 1:\n",
        "          Enter Your Email: support@iloveprogram.com\n",
        "          Your user name is ‘support’ and your domain is ‘iloveprogram.com’\n",
        "\n",
        "\n"
      ],
      "metadata": {
        "id": "7bbR5yaRPJho"
      }
    },
    {
      "cell_type": "code",
      "source": [
        "#start\n",
        "email = input('Enter your valid email:  ').strip()\n",
        "email_list = email.split('@')\n",
        "username = email_list[0]\n",
        "domain = email_list[-1]\n",
        "\n",
        "print(f\"Your email is '{email}'\")\n",
        "print(f\"Your user name is '{username}' and your domain is '{domain}'\")"
      ],
      "metadata": {
        "colab": {
          "base_uri": "https://localhost:8080/"
        },
        "id": "MRjiUsSPNkYN",
        "outputId": "fcab36ee-b92c-4152-a126-9b071175d4e3"
      },
      "execution_count": null,
      "outputs": [
        {
          "output_type": "stream",
          "name": "stdout",
          "text": [
            "Enter your valid email:  heartbreak@love.com\n",
            "Your email is 'heartbreak@love.com'\n",
            "Your user name is 'heartbreak' and your domain is 'love.com'\n"
          ]
        }
      ]
    },
    {
      "cell_type": "code",
      "source": [
        "#using string slicing\n",
        "\n",
        "email = input('Enter your valid email: ').strip()\n",
        "username = email[:email.index('@')]\n",
        "domain = email[email.index('@') + 1:]\n",
        "\n",
        "print(f\"Your email is '{email}'\")\n",
        "print(f\"Your username is '{username}' and your domain is '{domain}'\")"
      ],
      "metadata": {
        "colab": {
          "base_uri": "https://localhost:8080/"
        },
        "id": "lwy3cadGRbja",
        "outputId": "467e25a9-7e4e-4a35-b0c2-49b44998ba75"
      },
      "execution_count": null,
      "outputs": [
        {
          "output_type": "stream",
          "name": "stdout",
          "text": [
            "Enter your valid email: heartbreak@love.com     \n",
            "Your email is 'heartbreak@love.com'\n",
            "Your username is 'heartbreak' and your domain is 'love.com'\n"
          ]
        }
      ]
    },
    {
      "cell_type": "markdown",
      "source": [
        "***3. Generate Password with Python***\n",
        "\n",
        "\n",
        "   This is about generating a random password of some length, taking input from the user on the length, and generating a random password.\n"
      ],
      "metadata": {
        "id": "1cWvSHbTZ5LZ"
      }
    },
    {
      "cell_type": "code",
      "source": [
        "#lets take input of length\n",
        "passlength = int(input('Enter the length of the password to generate:  '))"
      ],
      "metadata": {
        "colab": {
          "base_uri": "https://localhost:8080/"
        },
        "id": "fg_xvtVvxKz3",
        "outputId": "5af9634f-e37b-4874-8914-5399fc25f643"
      },
      "execution_count": null,
      "outputs": [
        {
          "name": "stdout",
          "output_type": "stream",
          "text": [
            "Enter the length of the password to generate:  8\n"
          ]
        }
      ]
    },
    {
      "cell_type": "code",
      "source": [
        "import random\n",
        "\n",
        "s = \"abcdefghijklmnopqrstuvwxyz01234567890ABCDEFGHIJKLMNOPQRSTUVWXYZ!@#$%^&*()?\"\n",
        "\n",
        "print('\\nYour entered length of password is', passlength)\n",
        "print('Your suggested random password is:  ', end = '')\n",
        "print(''.join(random.sample(s, passlength)))"
      ],
      "metadata": {
        "colab": {
          "base_uri": "https://localhost:8080/"
        },
        "id": "uvWZaDGVdeCY",
        "outputId": "33ad2655-a8d2-4ce8-be66-94f98117e178"
      },
      "execution_count": null,
      "outputs": [
        {
          "output_type": "stream",
          "name": "stdout",
          "text": [
            "\n",
            "Your entered length of password is 8\n",
            "Your suggested random password is:  6lDa0eNu\n"
          ]
        }
      ]
    },
    {
      "cell_type": "markdown",
      "source": [
        "You can keep running the code cell above to keep shuffling random passwords of the entered wordlength. If you wish to change the length of the word, you can run the input *passlength* field to enter another and keep running the code cell below it to keep generating random passwords."
      ],
      "metadata": {
        "id": "wp1gYZVmxyvh"
      }
    },
    {
      "cell_type": "markdown",
      "source": [
        "***4.  Random Story Generator with Python***\n",
        "\n",
        "Lets generate a random story with some words already in a list. So, everytime we run the program, a random story appears to make sense, be it funny or exciting. It's more or like **`Mad Libs Theatre`**"
      ],
      "metadata": {
        "id": "dwGHffud42VB"
      }
    },
    {
      "cell_type": "code",
      "source": [
        "import random\n",
        "when = ['A few years ago', 'Yesterday', 'Last night', 'A long time ago','One day among brisk mid-winter']\n",
        "who = ['a rabbit', 'an elephant', 'a mouse', 'a turtle','a cat']\n",
        "name = ['Ali', 'Miriam','daniel', 'Hoouk', 'Starwalker']\n",
        "residence = ['Barcelona','India', 'Germany', 'Venice', 'England', 'a jungle', 'a riverside mysterious cave', 'snake island', '']\n",
        "went = ['cinema', 'university','seminar', 'school', 'laundry', 'war of the underworlds']\n",
        "happened = ['made a lot of friends','Eats a burger', 'found a secret key', 'solved a mistery', 'wrote a book', 'become the king of the nightsky', 'became the ruler of Egypt', 'crowned Legend of the Underground']\n",
        "print(random.choice(when) + ', ' + random.choice(who) + ' that lived in ' + random.choice(residence) + ', went to the ' + random.choice(went) + ' and ' + random.choice(happened))"
      ],
      "metadata": {
        "id": "wwD6buJBxvK8",
        "colab": {
          "base_uri": "https://localhost:8080/"
        },
        "outputId": "2a70fa0e-24d3-42ad-f542-31f7135aef47"
      },
      "execution_count": 21,
      "outputs": [
        {
          "output_type": "stream",
          "name": "stdout",
          "text": [
            "A long time ago, a rabbit that lived in England, went to the university and crowned Legend of the Underground\n"
          ]
        }
      ]
    },
    {
      "cell_type": "code",
      "source": [],
      "metadata": {
        "id": "nBI3PxuE6TUB"
      },
      "execution_count": 16,
      "outputs": []
    }
  ]
}