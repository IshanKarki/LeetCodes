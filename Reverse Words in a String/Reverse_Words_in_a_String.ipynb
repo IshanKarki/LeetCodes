{
  "nbformat": 4,
  "nbformat_minor": 0,
  "metadata": {
    "colab": {
      "provenance": [],
      "authorship_tag": "ABX9TyOKEADLaqvhg+cMEdSL7e25",
      "include_colab_link": true
    },
    "kernelspec": {
      "name": "python3",
      "display_name": "Python 3"
    },
    "language_info": {
      "name": "python"
    }
  },
  "cells": [
    {
      "cell_type": "markdown",
      "metadata": {
        "id": "view-in-github",
        "colab_type": "text"
      },
      "source": [
        "<a href=\"https://colab.research.google.com/github/IshanKarki/LeetCodes/blob/main/Reverse%20Words%20in%20a%20String/Reverse_Words_in_a_String.ipynb\" target=\"_parent\"><img src=\"https://colab.research.google.com/assets/colab-badge.svg\" alt=\"Open In Colab\"/></a>"
      ]
    },
    {
      "cell_type": "markdown",
      "source": [
        "# Reverse Words in a String\n",
        "Given an input string s, reverse the order of the words.\n",
        "\n",
        "A word is defined as a sequence of non-space characters. The words in s will be separated by at least one space.\n",
        "\n",
        "Return a string of the words in reverse order concatenated by a single space.\n",
        "\n",
        "Note that s may contain leading or trailing spaces or multiple spaces between two words. The returned string should only have a single space separating the words. Do not include any extra spaces.\n",
        "\n",
        "\n",
        "\n",
        "    Example 1:\n",
        "    Input: s = \"the sky is blue\"\n",
        "    Output: \"blue is sky the\"\n",
        "\n",
        "    Example 2:\n",
        "    Input: s = \"  hello world  \"\n",
        "    Output: \"world hello\"\n",
        "    Explanation: Your reversed string should not contain leading or trailing spaces.\n",
        "\n",
        "    Example 3:\n",
        "    Input: s = \"a good   example\"\n",
        "    Output: \"example good a\"\n",
        "    Explanation: You need to reduce multiple spaces between two words to a single space in the reversed string."
      ],
      "metadata": {
        "id": "kovbZvD6Sc2p"
      }
    },
    {
      "cell_type": "code",
      "execution_count": 5,
      "metadata": {
        "colab": {
          "base_uri": "https://localhost:8080/"
        },
        "id": "cctMmMXVSadP",
        "outputId": "936e0144-9388-44b6-db06-2024d5595442"
      },
      "outputs": [
        {
          "name": "stdout",
          "output_type": "stream",
          "text": [
            "Enter the words:  a good      example\n"
          ]
        }
      ],
      "source": [
        "#input\n",
        "s = input('Enter the words:  ')"
      ]
    },
    {
      "cell_type": "code",
      "source": [
        "class Solution:\n",
        "    def reverseWords(self, s):\n",
        "\n",
        "        words = s.split()\n",
        "        words = words[::-1]\n",
        "        return ' '.join(words)"
      ],
      "metadata": {
        "id": "Ao1UoTioS3Ae"
      },
      "execution_count": 6,
      "outputs": []
    },
    {
      "cell_type": "code",
      "source": [
        "output = Solution()\n",
        "print(s)\n",
        "print(output.reverseWords(s))"
      ],
      "metadata": {
        "colab": {
          "base_uri": "https://localhost:8080/"
        },
        "id": "cTzPUVOzS-tv",
        "outputId": "86c9d412-a9ae-48da-8519-8c0d0ee68531"
      },
      "execution_count": 7,
      "outputs": [
        {
          "output_type": "stream",
          "name": "stdout",
          "text": [
            "a good      example\n",
            "example good a\n"
          ]
        }
      ]
    },
    {
      "cell_type": "code",
      "source": [],
      "metadata": {
        "id": "aaW7UL9uTDiq"
      },
      "execution_count": null,
      "outputs": []
    }
  ]
}