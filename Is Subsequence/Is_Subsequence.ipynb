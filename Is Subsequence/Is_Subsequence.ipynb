{
  "nbformat": 4,
  "nbformat_minor": 0,
  "metadata": {
    "colab": {
      "provenance": [],
      "authorship_tag": "ABX9TyPMSvUNRZDbf1lXbLfiNapl",
      "include_colab_link": true
    },
    "kernelspec": {
      "name": "python3",
      "display_name": "Python 3"
    },
    "language_info": {
      "name": "python"
    }
  },
  "cells": [
    {
      "cell_type": "markdown",
      "metadata": {
        "id": "view-in-github",
        "colab_type": "text"
      },
      "source": [
        "<a href=\"https://colab.research.google.com/github/IshanKarki/LeetCodes/blob/main/Is%20Subsequence/Is_Subsequence.ipynb\" target=\"_parent\"><img src=\"https://colab.research.google.com/assets/colab-badge.svg\" alt=\"Open In Colab\"/></a>"
      ]
    },
    {
      "cell_type": "markdown",
      "source": [
        "# Is Subsequence\n",
        "Given two strings s and t, return true if s is a subsequence of t, or false otherwise.\n",
        "\n",
        "A subsequence of a string is a new string that is formed from the original string by deleting some (can be none) of the characters without disturbing the relative positions of the remaining characters. **(i.e., \"ace\" is a subsequence of \"abcde\" while \"aec\" is not)**.\n",
        "\n",
        "\n",
        "\n",
        "    Example 1:\n",
        "    Input: s = \"abc\", t = \"ahbgdc\"\n",
        "    Output: true\n",
        "\n",
        "    Example 2:\n",
        "    Input: s = \"axc\", t = \"ahbgdc\"\n",
        "    Output: false"
      ],
      "metadata": {
        "id": "GB1kr3_K1CIW"
      }
    },
    {
      "cell_type": "code",
      "source": [
        "# input\n",
        "t = input('Enter the string: ')\n",
        "s = input('Enter the subsequence: ')"
      ],
      "metadata": {
        "colab": {
          "base_uri": "https://localhost:8080/"
        },
        "id": "L48xMt-J1JI-",
        "outputId": "a395cdcb-42b5-4dc6-869a-2d337563a5e5"
      },
      "execution_count": 5,
      "outputs": [
        {
          "name": "stdout",
          "output_type": "stream",
          "text": [
            "Enter the string: abcde\n",
            "Enter the subsequence: aec\n"
          ]
        }
      ]
    },
    {
      "cell_type": "code",
      "source": [
        "class Solution:\n",
        "  def isSubsequence(self, s, t):\n",
        "    subs = []\n",
        "    for i  in range(len(t)):\n",
        "        if t[i] in s:\n",
        "            subs.append(t[i])\n",
        "        if subs.count(t[i]) > s.count(t[i]):\n",
        "            subs.remove(t[i])\n",
        "\n",
        "    subs = ''.join(subs)\n",
        "    if subs == s:\n",
        "        return True\n",
        "    return False"
      ],
      "metadata": {
        "id": "oRXA2RNA1cU4"
      },
      "execution_count": 6,
      "outputs": []
    },
    {
      "cell_type": "code",
      "source": [
        "output = Solution()\n",
        "print(output.isSubsequence(s, t))"
      ],
      "metadata": {
        "colab": {
          "base_uri": "https://localhost:8080/"
        },
        "id": "8_0FbOGn109Z",
        "outputId": "1495c63e-a8cc-4b07-accf-da6bbd526ebd"
      },
      "execution_count": 7,
      "outputs": [
        {
          "output_type": "stream",
          "name": "stdout",
          "text": [
            "False\n"
          ]
        }
      ]
    },
    {
      "cell_type": "code",
      "source": [],
      "metadata": {
        "id": "K6_9Xe5s18-T"
      },
      "execution_count": null,
      "outputs": []
    }
  ]
}