{
  "nbformat": 4,
  "nbformat_minor": 0,
  "metadata": {
    "colab": {
      "provenance": [],
      "authorship_tag": "ABX9TyMaByNeEJv0B5n3671/G3D4",
      "include_colab_link": true
    },
    "kernelspec": {
      "name": "python3",
      "display_name": "Python 3"
    },
    "language_info": {
      "name": "python"
    }
  },
  "cells": [
    {
      "cell_type": "markdown",
      "metadata": {
        "id": "view-in-github",
        "colab_type": "text"
      },
      "source": [
        "<a href=\"https://colab.research.google.com/github/IshanKarki/LeetCodes/blob/main/Longest%20Common%20Prefix/Longest_Common_Prefix.ipynb\" target=\"_parent\"><img src=\"https://colab.research.google.com/assets/colab-badge.svg\" alt=\"Open In Colab\"/></a>"
      ]
    },
    {
      "cell_type": "markdown",
      "source": [
        "# Longest Common Prefix\n",
        "To solve this problem, we'll approach from ***vertical scanning***, which is to scan the characters in a string in the respective order with the other string in the strings list.\n",
        "\n",
        "The best time complexity of solving the longest common prefix problem is using Vertical scanning or horizontal scanning approach, which has a **O(N)** whree N is the size of the strs, while space complexity of O(1), other approaches to the problem are using Divide and Conquer, which has the order of complexity as **O(K)** where K is the sum of all characters in all strings, and **O(K.logN)** in Binary Search."
      ],
      "metadata": {
        "id": "O4nFQOdYdaCL"
      }
    },
    {
      "cell_type": "code",
      "source": [
        "strs = []\n",
        "name = ['first', 'second', 'third'] # for three inputs\n",
        "for i in range(3):\n",
        "  x = input(f'Enter the {name[i]} string:  ')\n",
        "  strs.append(x)\n",
        "\n",
        "print(strs)"
      ],
      "metadata": {
        "colab": {
          "base_uri": "https://localhost:8080/"
        },
        "id": "3KRaOf6uDMb2",
        "outputId": "4b65b249-3579-485a-da95-a95115c09828"
      },
      "execution_count": 27,
      "outputs": [
        {
          "output_type": "stream",
          "name": "stdout",
          "text": [
            "Enter the first string:  dog\n",
            "Enter the second string:  racecar\n",
            "Enter the third string:  car\n",
            "['dog', 'racecar', 'car']\n"
          ]
        }
      ]
    },
    {
      "cell_type": "code",
      "execution_count": 28,
      "metadata": {
        "id": "_DAszbGxBmRP"
      },
      "outputs": [],
      "source": [
        "class Solution1:\n",
        "  def longestCommonPrefix(self, strs):\n",
        "\n",
        "    base = strs[0]\n",
        "    for i in range(len(base)):\n",
        "      for word in strs[1:]:\n",
        "        if i == len(word) or base[i] != word[i]:\n",
        "          return base[0:i]\n",
        "\n",
        "    return base"
      ]
    },
    {
      "cell_type": "code",
      "source": [
        "output = Solution1()\n",
        "print(output.longestCommonPrefix(strs))"
      ],
      "metadata": {
        "colab": {
          "base_uri": "https://localhost:8080/"
        },
        "id": "c2jHU1HAIlsl",
        "outputId": "d369d569-cc17-495c-8c24-a3030bc7f289"
      },
      "execution_count": 29,
      "outputs": [
        {
          "output_type": "stream",
          "name": "stdout",
          "text": [
            "\n"
          ]
        }
      ]
    },
    {
      "cell_type": "markdown",
      "source": [
        "Another approach to solving the same problem using vertical scanning, is shown below.\n",
        "\n",
        "This approach has the same time complexity as the method above but is slightly better as it depends on the input the user enters, and the basic idea behind this approach is to sort the strings in the list *strs*, as the sorted strings will have the first and last element as the most diversed and unique, or has the biggest difference, hence this approach involves sorting the entered list and then just comparing the first and last string in the list to find the **LCP** for the overall solution."
      ],
      "metadata": {
        "id": "HZ5JW-jwh5Rs"
      }
    },
    {
      "cell_type": "code",
      "source": [
        "class Solution2:\n",
        "  def longestCommonPrefix(self, strs):\n",
        "    prefix = ''\n",
        "    strs.sort()\n",
        "    print(strs)\n",
        "    first = strs[0]\n",
        "    last = strs[-1]\n",
        "\n",
        "    # NOTE THIS SOLUTION WON'T WORK IN TEST CASE:\n",
        "    # Suppose strs = [\"dog\",\"racecar\",\"car\"], when sorted strs = ['car', 'dog', 'racecar']\n",
        "    # So, first = 'car'\n",
        "    # And last = 'racecar'\n",
        "    # The solution below should return no LCP as there is not but when done this it'll return 'a'\n",
        "    # when i = 0, we compare if 'c' == 'r' which is False,\n",
        "    # when i = 1, second character of 'car' which is 'a', should be compared to the second character of 'racecar' which is also 'a',\n",
        "    # hence it checks as if 'a' == 'a' which is True, hence prefix = '' + a = 'a' which is wrong. Hence, we do the other solution thats not a comment.\n",
        "\n",
        "\n",
        "    # for i in range(min(len(first), len(last))):\n",
        "    #   if first[i] == last[i]:\n",
        "    #     prefix += first[i]\n",
        "    # return prefix\n",
        "\n",
        "\n",
        "    for i in range(min(len(first), len(last))):\n",
        "      if first[i] != last[i]:\n",
        "        return prefix\n",
        "      prefix += first[i]\n",
        "\n",
        "    return prefix"
      ],
      "metadata": {
        "id": "QSi8nNnHItoM"
      },
      "execution_count": 33,
      "outputs": []
    },
    {
      "cell_type": "code",
      "source": [
        "output = Solution2()\n",
        "print(output.longestCommonPrefix(strs))"
      ],
      "metadata": {
        "colab": {
          "base_uri": "https://localhost:8080/"
        },
        "id": "dXIYSJBdjlKN",
        "outputId": "ed5c4b5e-e4e8-4038-b7e2-fd40149f62c5"
      },
      "execution_count": 34,
      "outputs": [
        {
          "output_type": "stream",
          "name": "stdout",
          "text": [
            "['car', 'dog', 'racecar']\n",
            "\n"
          ]
        }
      ]
    },
    {
      "cell_type": "code",
      "source": [],
      "metadata": {
        "id": "lsd_niuqjsLj"
      },
      "execution_count": null,
      "outputs": []
    }
  ]
}