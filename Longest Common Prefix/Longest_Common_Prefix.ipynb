{
  "nbformat": 4,
  "nbformat_minor": 0,
  "metadata": {
    "colab": {
      "provenance": [],
      "authorship_tag": "ABX9TyMjwpcIl//YOcD2sWvTsSTe",
      "include_colab_link": true
    },
    "kernelspec": {
      "name": "python3",
      "display_name": "Python 3"
    },
    "language_info": {
      "name": "python"
    }
  },
  "cells": [
    {
      "cell_type": "markdown",
      "metadata": {
        "id": "view-in-github",
        "colab_type": "text"
      },
      "source": [
        "<a href=\"https://colab.research.google.com/github/IshanKarki/LeetCodes/blob/main/Longest%20Common%20Prefix/Longest_Common_Prefix.ipynb\" target=\"_parent\"><img src=\"https://colab.research.google.com/assets/colab-badge.svg\" alt=\"Open In Colab\"/></a>"
      ]
    },
    {
      "cell_type": "code",
      "source": [
        "strs = []\n",
        "name = ['first', 'second', 'third']\n",
        "for i in range(3):\n",
        "  x = input(f'Enter the {name[i]} string:  ')\n",
        "  strs.append(x)\n",
        "\n",
        "print(strs)"
      ],
      "metadata": {
        "colab": {
          "base_uri": "https://localhost:8080/"
        },
        "id": "3KRaOf6uDMb2",
        "outputId": "c3d69cb9-7f9f-40e0-d9b8-06d2d9046c83"
      },
      "execution_count": 7,
      "outputs": [
        {
          "output_type": "stream",
          "name": "stdout",
          "text": [
            "Enter the first string:  flower\n",
            "Enter the second string:  flow\n",
            "Enter the third string:  flight\n",
            "['flower', 'flow', 'flight']\n"
          ]
        }
      ]
    },
    {
      "cell_type": "code",
      "execution_count": 8,
      "metadata": {
        "id": "_DAszbGxBmRP"
      },
      "outputs": [],
      "source": [
        "class Solution:\n",
        "  def longestCommonPrefix(self, strs):\n",
        "\n",
        "    if len(strs) == 0:  #to check if the list containing strings in strs is not empty list.\n",
        "      return ''\n",
        "\n",
        "    base = strs[0]\n",
        "    for i in range(len(base)):\n",
        "      for word in strs[1:]:\n",
        "        if i == len(word) or base[i] != word[i]:\n",
        "          return base[0:i]\n",
        "\n",
        "    return base"
      ]
    },
    {
      "cell_type": "code",
      "source": [
        "output = Solution()\n",
        "print(output.longestCommonPrefix(strs))"
      ],
      "metadata": {
        "colab": {
          "base_uri": "https://localhost:8080/"
        },
        "id": "c2jHU1HAIlsl",
        "outputId": "2aacc867-efcd-43fe-bae4-594272fd94cd"
      },
      "execution_count": 9,
      "outputs": [
        {
          "output_type": "stream",
          "name": "stdout",
          "text": [
            "fl\n"
          ]
        }
      ]
    },
    {
      "cell_type": "code",
      "source": [],
      "metadata": {
        "id": "QSi8nNnHItoM"
      },
      "execution_count": 6,
      "outputs": []
    }
  ]
}