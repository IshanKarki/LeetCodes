{
  "nbformat": 4,
  "nbformat_minor": 0,
  "metadata": {
    "colab": {
      "provenance": [],
      "authorship_tag": "ABX9TyPA+SZyu5Sigwn7qSdgnya+",
      "include_colab_link": true
    },
    "kernelspec": {
      "name": "python3",
      "display_name": "Python 3"
    },
    "language_info": {
      "name": "python"
    }
  },
  "cells": [
    {
      "cell_type": "markdown",
      "metadata": {
        "id": "view-in-github",
        "colab_type": "text"
      },
      "source": [
        "<a href=\"https://colab.research.google.com/github/IshanKarki/LeetCodes/blob/main/Calculate%20Money%20in%20LeetCode%20Bank/Calculate_Money_in_LeetCode_Bank.ipynb\" target=\"_parent\"><img src=\"https://colab.research.google.com/assets/colab-badge.svg\" alt=\"Open In Colab\"/></a>"
      ]
    },
    {
      "cell_type": "markdown",
      "source": [
        "# Calculate Money in Leetcode Bank\n",
        "Hercy wants to save money for his first car. He puts money in the Leetcode bank every day.\n",
        "\n",
        "He starts by putting in dollar 1 on Monday, the first day. Every day from Tuesday to Sunday, he will put in dollar 1 more than the day before. On every subsequent Monday, he will put in dollar 1 more than the previous Monday.\n",
        "\n",
        "Given **n**, return the total amount of money he will have in the Leetcode bank at the end of the *nth* day.\n",
        "\n",
        "\n",
        "\n",
        "    Example 1:\n",
        "    Input: n = 4\n",
        "    Output: 10\n",
        "    Explanation: After the 4th day, the total is 1 + 2 + 3 + 4 = 10.\n",
        "\n",
        "    Example 2:\n",
        "    Input: n = 10\n",
        "    Output: 37\n",
        "    Explanation: After the 10th day, the total is (1 + 2 + 3 + 4 + 5 + 6 + 7) + (2 + 3 + 4) = 37. Notice that on the 2nd Monday, Hercy only puts in $2.\n",
        "\n",
        "    Example 3:\n",
        "    Input: n = 20\n",
        "    Output: 96\n",
        "    Explanation: After the 20th day, the total is (1 + 2 + 3 + 4 + 5 + 6 + 7) + (2 + 3 + 4 + 5 + 6 + 7 + 8) + (3 + 4 + 5 + 6 + 7 + 8) = 96."
      ],
      "metadata": {
        "id": "71yaq_in_IuJ"
      }
    },
    {
      "cell_type": "code",
      "source": [
        "#taking input from the user\n",
        "n = int(input('Enter the number of days:  '))\n",
        "print(n)"
      ],
      "metadata": {
        "colab": {
          "base_uri": "https://localhost:8080/"
        },
        "id": "JhuKhinf_9Kk",
        "outputId": "6c4ae8a8-2236-47ea-feba-114c4f8556c8"
      },
      "execution_count": 5,
      "outputs": [
        {
          "output_type": "stream",
          "name": "stdout",
          "text": [
            "Enter the number of days:  20\n",
            "20\n"
          ]
        }
      ]
    },
    {
      "cell_type": "code",
      "execution_count": 4,
      "metadata": {
        "id": "iEsbUbK--6f2"
      },
      "outputs": [],
      "source": [
        "class Solution:\n",
        "    def totalMoney(self, n: int) -> int:\n",
        "\n",
        "        week = n // 7\n",
        "        days = n % 7\n",
        "        a = 1\n",
        "        s = 0\n",
        "        total = 0\n",
        "\n",
        "        while week > 0 :\n",
        "            s = 3.5*((2*a) + 6) #using the formula Sn = n/2[2a + (n-1)d], where we know n = 7, and d = 1 as we progressively increase by 1, eg: Sn = 7/2[2(1) + (7-1)*1]\n",
        "            a += 1 #increasing the first element value by 1 as for second iteration, the first element starts from 2 progressively to 8\n",
        "            week -= 1\n",
        "            total += s #say n=20, week = 2, days = 6, then s = 28.0 for week = 2>0, and then s=35.0 for week=1>0, as a = 2 thus total = 28 + 35 = 63.0,\n",
        "\n",
        "        s = (days/2) * ((2*a) + (days - 1)) #then for days, total = 63, so s = (6/2) * ((2 * 3) + (6-1)) = 33, as a = 3 for week = 1, as a = 1 for week = 2 in n=20, and again a=2 after s, in week = 2, then in week= 1, after s execution, a = 3\n",
        "        total += s #finally total = 63 + 33 = 96..0 => 96\n",
        "\n",
        "        return int(total)"
      ]
    },
    {
      "cell_type": "code",
      "source": [
        "output = Solution()\n",
        "print(output.totalMoney(n))"
      ],
      "metadata": {
        "colab": {
          "base_uri": "https://localhost:8080/"
        },
        "id": "jn5QuD6CAPGy",
        "outputId": "00e18827-fa96-4712-9aa6-a4d17fcbd1a1"
      },
      "execution_count": 6,
      "outputs": [
        {
          "output_type": "stream",
          "name": "stdout",
          "text": [
            "96\n"
          ]
        }
      ]
    },
    {
      "cell_type": "code",
      "source": [],
      "metadata": {
        "id": "xokTELSJAV7o"
      },
      "execution_count": null,
      "outputs": []
    }
  ]
}