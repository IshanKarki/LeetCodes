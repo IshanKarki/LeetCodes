{
  "nbformat": 4,
  "nbformat_minor": 0,
  "metadata": {
    "colab": {
      "provenance": [],
      "authorship_tag": "ABX9TyMJNUAak0RejMg1XHrusGk3",
      "include_colab_link": true
    },
    "kernelspec": {
      "name": "python3",
      "display_name": "Python 3"
    },
    "language_info": {
      "name": "python"
    }
  },
  "cells": [
    {
      "cell_type": "markdown",
      "metadata": {
        "id": "view-in-github",
        "colab_type": "text"
      },
      "source": [
        "<a href=\"https://colab.research.google.com/github/IshanKarki/LeetCodes/blob/main/Remove%20Stars%20from%20a%20String/Remove_Stars_from_a_String.ipynb\" target=\"_parent\"><img src=\"https://colab.research.google.com/assets/colab-badge.svg\" alt=\"Open In Colab\"/></a>"
      ]
    },
    {
      "cell_type": "markdown",
      "source": [
        "# Remove Stars from a String\n",
        "\n",
        "You are given a string s, which contains stars *.\n",
        "\n",
        "In one operation, you can:\n",
        "\n",
        "Choose a star in s.\n",
        "Remove the closest non-star character to its left, as well as remove the star itself.\n",
        "Return the string after all stars have been removed.\n",
        "\n",
        "Note:\n",
        "\n",
        "The input will be generated such that the operation is always possible.\n",
        "It can be shown that the resulting string will always be unique.\n",
        "\n",
        "\n",
        "    Example 1:\n",
        "    Input: s = \"leet**cod*e\"\n",
        "    Output: \"lecoe\"\n",
        "    Explanation: Performing the removals from left to right:\n",
        "    - The closest character to the 1st star is 't' in \"leet**cod*e\". s becomes \"lee*cod*e\".\n",
        "    - The closest character to the 2nd star is 'e' in \"lee*cod*e\". s becomes \"lecod*e\".\n",
        "    - The closest character to the 3rd star is 'd' in \"lecod*e\". s becomes \"lecoe\".\n",
        "    There are no more stars, so we return \"lecoe\".\n",
        "    \n",
        "    Example 2:\n",
        "    Input: s = \"erase*****\"\n",
        "    Output: \"\"\n",
        "    Explanation: The entire string is removed, so we return an empty string.\n",
        ""
      ],
      "metadata": {
        "id": "egG9Yy0kqeNL"
      }
    },
    {
      "cell_type": "code",
      "source": [
        "#input from the user\n",
        "s = input('Enter the string containing * :   ')\n"
      ],
      "metadata": {
        "colab": {
          "base_uri": "https://localhost:8080/"
        },
        "id": "jcXsA-D9qvVi",
        "outputId": "1253d107-75a8-4bf2-f55d-784edf98ba0b"
      },
      "execution_count": 1,
      "outputs": [
        {
          "name": "stdout",
          "output_type": "stream",
          "text": [
            "Enter the string containing * :   leet**cod*e\n"
          ]
        }
      ]
    },
    {
      "cell_type": "code",
      "source": [
        "class Solution:\n",
        "    def removeStars(self, s):\n",
        "\n",
        "        stack = []\n",
        "        for i in s:\n",
        "            if i == '*':\n",
        "                stack.pop()\n",
        "            else:\n",
        "                stack.append(i)\n",
        "\n",
        "        return ''.join(stack)"
      ],
      "metadata": {
        "id": "V7XakIgUq6Um"
      },
      "execution_count": 2,
      "outputs": []
    },
    {
      "cell_type": "code",
      "source": [
        "output = Solution()\n",
        "print('s =', s)\n",
        "print(\"Output: \" , end = '')\n",
        "print(output.removeStars(s))"
      ],
      "metadata": {
        "colab": {
          "base_uri": "https://localhost:8080/"
        },
        "id": "qo9XzY8yrCx2",
        "outputId": "7d2e0fd0-0b08-4b5b-cc92-2e7662a14800"
      },
      "execution_count": 4,
      "outputs": [
        {
          "output_type": "stream",
          "name": "stdout",
          "text": [
            "s = leet**cod*e\n",
            "Output: lecoe\n"
          ]
        }
      ]
    },
    {
      "cell_type": "code",
      "source": [],
      "metadata": {
        "id": "L9AphpTZrOfx"
      },
      "execution_count": null,
      "outputs": []
    }
  ]
}