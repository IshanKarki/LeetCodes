{
  "nbformat": 4,
  "nbformat_minor": 0,
  "metadata": {
    "colab": {
      "provenance": [],
      "authorship_tag": "ABX9TyNavARc/Eih+6c5sLWI1nGp",
      "include_colab_link": true
    },
    "kernelspec": {
      "name": "python3",
      "display_name": "Python 3"
    },
    "language_info": {
      "name": "python"
    }
  },
  "cells": [
    {
      "cell_type": "markdown",
      "metadata": {
        "id": "view-in-github",
        "colab_type": "text"
      },
      "source": [
        "<a href=\"https://colab.research.google.com/github/IshanKarki/LeetCodes/blob/main/Equal%20Row%20and%20Column/Equal_Row_and_Column_Pairs.ipynb\" target=\"_parent\"><img src=\"https://colab.research.google.com/assets/colab-badge.svg\" alt=\"Open In Colab\"/></a>"
      ]
    },
    {
      "cell_type": "markdown",
      "source": [
        "# Equal Row and Column Pairs\n",
        "Given a 0-indexed n x n integer matrix grid, return the number of pairs (ri, cj) such that row ri and column cj are equal.\n",
        "\n",
        "A row and column pair is considered equal if they contain the same elements in the same order (i.e., an equal array).\n",
        "\n",
        "\n",
        "\n",
        "    Example 1:\n",
        "    Input: grid = [[3,2,1],[1,7,6],[2,7,7]]\n",
        "    Output: 1\n",
        "    Explanation: There is 1 equal row and column pair:\n",
        "    - (Row 2, Column 1): [2,7,7]\n",
        "\n",
        "    Example 2:\n",
        "    Input: grid = [[3,1,2,2],[1,4,4,5],[2,4,2,2],[2,4,2,2]]\n",
        "    Output: 3\n",
        "    Explanation: There are 3 equal row and column pairs:\n",
        "    - (Row 0, Column 0): [3,1,2,2]\n",
        "    - (Row 2, Column 2): [2,4,2,2]\n",
        "    - (Row 3, Column 2): [2,4,2,2]\n",
        "  "
      ],
      "metadata": {
        "id": "oultti93nhvU"
      }
    },
    {
      "cell_type": "code",
      "source": [
        "# lets take input\n",
        "grid = []\n",
        "n = int(input('Enter the number of rows of the grid:  '))\n",
        "\n",
        "for i in range(n):\n",
        "    row = []\n",
        "    values = input(\"Enter the values of row separated by space:  \")\n",
        "    value = values.split()\n",
        "    for j in range(len(value)):\n",
        "      x = int(value[j])\n",
        "      row.append(x)\n",
        "    grid.append(row)\n",
        "\n",
        "    if len(grid[i]) != n:\n",
        "      raise Exception(\"The entered matrix does not have rows and columns equal !\")\n",
        "      raise Exception(\"Try entering the value inside of the row same as that of the number of rows.\")\n",
        "      raise Exception(\"i.e the number of rows must be equal to the number of columns!!\")\n",
        "\n",
        "print(grid)"
      ],
      "metadata": {
        "colab": {
          "base_uri": "https://localhost:8080/"
        },
        "id": "47FD7lO5n1M6",
        "outputId": "05254d29-5146-4ba1-c5c0-73bed1ea5ffa"
      },
      "execution_count": 26,
      "outputs": [
        {
          "output_type": "stream",
          "name": "stdout",
          "text": [
            "Enter the number of rows of the grid:  4 \n",
            "Enter the values of row separated by space:  3  1 2 2\n",
            "Enter the values of row separated by space:  1 4  4 5\n",
            "Enter the values of row separated by space:  2 4 2 2\n",
            "Enter the values of row separated by space:  2 4 2 2\n",
            "[[3, 1, 2, 2], [1, 4, 4, 5], [2, 4, 2, 2], [2, 4, 2, 2]]\n"
          ]
        }
      ]
    },
    {
      "cell_type": "code",
      "source": [
        " class Solution:\n",
        "  def equalPairs(self, grid):\n",
        "    column_grid = []\n",
        "    count = 0\n",
        "\n",
        "    for i in range(len(grid[0])):\n",
        "      column = []\n",
        "      for j in range(len(grid[0])):\n",
        "        column.append(grid[j][i])\n",
        "      column_grid.append(column)\n",
        "\n",
        "    for i in range(len(grid)):\n",
        "      for j in range(len(grid)):\n",
        "        if grid[i] == column_grid[j]:\n",
        "          count += 1\n",
        "\n",
        "    return count"
      ],
      "metadata": {
        "id": "VpYzGd75qBPU"
      },
      "execution_count": 27,
      "outputs": []
    },
    {
      "cell_type": "code",
      "source": [
        "output = Solution()\n",
        "print('grid =', grid)\n",
        "print('Output : ', end = '')\n",
        "print(output.equalPairs(grid))"
      ],
      "metadata": {
        "colab": {
          "base_uri": "https://localhost:8080/"
        },
        "id": "xH5Gj4nR6L4b",
        "outputId": "3243a2e6-746c-4b1b-d125-ec5307e07b4f"
      },
      "execution_count": 28,
      "outputs": [
        {
          "output_type": "stream",
          "name": "stdout",
          "text": [
            "grid = [[3, 1, 2, 2], [1, 4, 4, 5], [2, 4, 2, 2], [2, 4, 2, 2]]\n",
            "Output : 3\n"
          ]
        }
      ]
    },
    {
      "cell_type": "code",
      "source": [],
      "metadata": {
        "id": "Q4x1ICYw6Y-b"
      },
      "execution_count": null,
      "outputs": []
    }
  ]
}