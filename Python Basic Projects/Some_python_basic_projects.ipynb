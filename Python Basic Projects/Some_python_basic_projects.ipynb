{
  "nbformat": 4,
  "nbformat_minor": 0,
  "metadata": {
    "colab": {
      "provenance": [],
      "authorship_tag": "ABX9TyPNKpdfHOu1n/nNbR3ptvus",
      "include_colab_link": true
    },
    "kernelspec": {
      "name": "python3",
      "display_name": "Python 3"
    },
    "language_info": {
      "name": "python"
    }
  },
  "cells": [
    {
      "cell_type": "markdown",
      "metadata": {
        "id": "view-in-github",
        "colab_type": "text"
      },
      "source": [
        "<a href=\"https://colab.research.google.com/github/IshanKarki/LeetCodes/blob/main/Python%20Basic%20Projects/Some_python_basic_projects.ipynb\" target=\"_parent\"><img src=\"https://colab.research.google.com/assets/colab-badge.svg\" alt=\"Open In Colab\"/></a>"
      ]
    },
    {
      "cell_type": "markdown",
      "source": [
        "# This notebook consists a list of python basic projects\n",
        "\n",
        "***1.  Create Acronyms using Python***\n",
        "  \n",
        "Suppose the user types in the word, Artificial Intelligence, then get the output as AI.\n",
        "\n",
        "    Example 1:\n",
        "    user_input = \"Artificial Intelligence\"\n",
        "    OUTPUT: AI\n",
        "\n",
        "    Example 2:\n",
        "    user_input = 'Natural Language Processing'\n",
        "    OUTPUT: NLP\n",
        "\n",
        "    Example 3:\n",
        "    user_input = 'Life is Short, live a little'\n",
        "    OUTPUT: LISLAL\n",
        "\n",
        "    "
      ],
      "metadata": {
        "id": "q_D1SsZVLu4V"
      }
    },
    {
      "cell_type": "code",
      "execution_count": 8,
      "metadata": {
        "colab": {
          "base_uri": "https://localhost:8080/"
        },
        "id": "ef9an9cjLuLz",
        "outputId": "9197a4d2-bd57-4ec8-e552-1c72ec3591f8"
      },
      "outputs": [
        {
          "output_type": "stream",
          "name": "stdout",
          "text": [
            "Enter the string:  Natural language processing\n",
            "user_input =  Natural language processing\n",
            "Output: NLP\n"
          ]
        }
      ],
      "source": [
        "#input from user\n",
        "user_input = input('Enter the string:  ')\n",
        "\n",
        "words = user_input.split()\n",
        "words = [word.upper() for word in words]\n",
        "\n",
        "output = ''\n",
        "for word in words:\n",
        "  base = word[0]\n",
        "  output += base\n",
        "\n",
        "print('user_input = ', user_input)\n",
        "print('Output: ', end ='')\n",
        "print(output)"
      ]
    },
    {
      "cell_type": "markdown",
      "source": [
        "\n",
        "2.   Email Slicer with Python\n",
        "\n",
        "          Example 1:\n",
        "          Enter Your Email: support@iloveprogram.com\n",
        "          Your user name is ‘support’ and your domain is ‘iloveprogram.com’\n",
        "\n",
        "\n"
      ],
      "metadata": {
        "id": "7bbR5yaRPJho"
      }
    },
    {
      "cell_type": "code",
      "source": [
        "#start\n",
        "email = input('Enter your valid email:  ').strip()\n",
        "email_list = email.split('@')\n",
        "username = email_list[0]\n",
        "domain = email_list[-1]\n",
        "\n",
        "print(f\"Your email is '{email}'\")\n",
        "print(f\"Your user name is '{username}' and your domain is '{domain}'\")"
      ],
      "metadata": {
        "colab": {
          "base_uri": "https://localhost:8080/"
        },
        "id": "MRjiUsSPNkYN",
        "outputId": "fcab36ee-b92c-4152-a126-9b071175d4e3"
      },
      "execution_count": 18,
      "outputs": [
        {
          "output_type": "stream",
          "name": "stdout",
          "text": [
            "Enter your valid email:  heartbreak@love.com\n",
            "Your email is 'heartbreak@love.com'\n",
            "Your user name is 'heartbreak' and your domain is 'love.com'\n"
          ]
        }
      ]
    },
    {
      "cell_type": "code",
      "source": [
        "#using string slicing\n",
        "\n",
        "email = input('Enter your valid email: ').strip()\n",
        "username = email[:email.index('@')]\n",
        "domain = email[email.index('@') + 1:]\n",
        "\n",
        "print(f\"Your email is '{email}'\")\n",
        "print(f\"Your username is '{username}' and your domain is '{domain}'\")"
      ],
      "metadata": {
        "colab": {
          "base_uri": "https://localhost:8080/"
        },
        "id": "lwy3cadGRbja",
        "outputId": "467e25a9-7e4e-4a35-b0c2-49b44998ba75"
      },
      "execution_count": 19,
      "outputs": [
        {
          "output_type": "stream",
          "name": "stdout",
          "text": [
            "Enter your valid email: heartbreak@love.com     \n",
            "Your email is 'heartbreak@love.com'\n",
            "Your username is 'heartbreak' and your domain is 'love.com'\n"
          ]
        }
      ]
    },
    {
      "cell_type": "code",
      "source": [],
      "metadata": {
        "id": "kezxfo4XTt8D"
      },
      "execution_count": null,
      "outputs": []
    }
  ]
}