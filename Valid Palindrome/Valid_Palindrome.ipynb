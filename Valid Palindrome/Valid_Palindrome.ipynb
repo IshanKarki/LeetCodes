{
  "nbformat": 4,
  "nbformat_minor": 0,
  "metadata": {
    "colab": {
      "provenance": [],
      "authorship_tag": "ABX9TyMfkxFrNBdWfdBGfnZkUUr8",
      "include_colab_link": true
    },
    "kernelspec": {
      "name": "python3",
      "display_name": "Python 3"
    },
    "language_info": {
      "name": "python"
    }
  },
  "cells": [
    {
      "cell_type": "markdown",
      "metadata": {
        "id": "view-in-github",
        "colab_type": "text"
      },
      "source": [
        "<a href=\"https://colab.research.google.com/github/IshanKarki/LeetCodes/blob/main/Valid%20Palindrome/Valid_Palindrome.ipynb\" target=\"_parent\"><img src=\"https://colab.research.google.com/assets/colab-badge.svg\" alt=\"Open In Colab\"/></a>"
      ]
    },
    {
      "cell_type": "markdown",
      "source": [
        "# Valid Palindrome\n",
        "\n",
        "A phrase is a palindrome if, after converting all uppercase letters into lowercase letters and removing all non-alphanumeric characters, it reads the same forward and backward. Alphanumeric characters include letters and numbers.\n",
        "\n",
        "Given a string s, return true if it is a palindrome, or false otherwise.\n",
        "\n",
        "\n",
        "\n",
        "```\n",
        "Example 1:\n",
        "\n",
        "Input: s = \"A man, a plan, a canal: Panama\"\n",
        "Output: true\n",
        "Explanation: \"amanaplanacanalpanama\" is a palindrome.\n",
        "Example 2:\n",
        "\n",
        "Input: s = \"race a car\"\n",
        "Output: false\n",
        "Explanation: \"raceacar\" is not a palindrome.\n",
        "Example 3:\n",
        "\n",
        "Input: s = \" \"\n",
        "Output: true\n",
        "Explanation: s is an empty string \"\" after removing non-alphanumeric characters.\n",
        "Since an empty string reads the same forward and backward, it is a palindrome.\n",
        "\n",
        "```\n",
        "\n"
      ],
      "metadata": {
        "id": "5WzOtv-arpfa"
      }
    },
    {
      "cell_type": "code",
      "execution_count": null,
      "metadata": {
        "colab": {
          "base_uri": "https://localhost:8080/"
        },
        "id": "a8bnd5IFrQ35",
        "outputId": "37fea96d-3114-45bb-8967-014c1f8e46ed"
      },
      "outputs": [
        {
          "output_type": "stream",
          "name": "stdout",
          "text": [
            "Enter your text: A man, a plan, a canal: Panama\n",
            "Input: s = A man, a plan, a canal: Panama\n"
          ]
        }
      ],
      "source": [
        "#lets take the input from the user\n",
        "\n",
        "s = input('Enter your text: ')\n",
        "print(f\"Input: s = {s}\")"
      ]
    },
    {
      "cell_type": "code",
      "source": [
        "class Solution:\n",
        "  def __init__(self, s):\n",
        "    self.s = \"\".join(c.lower() for c in s if c.isalnum())\n",
        "\n",
        "  def isPalindrome(self, s):\n",
        "    s = \"\".join(c.lower() for c in s if c.isalnum())\n",
        "    left = 0\n",
        "    right = len(s) - 1\n",
        "\n",
        "    while left < right:\n",
        "      if s[left] != s[right]:\n",
        "        return False\n",
        "\n",
        "      left += 1\n",
        "      right -= 1\n",
        "\n",
        "    return True"
      ],
      "metadata": {
        "id": "OtCRbzxSsrnZ"
      },
      "execution_count": null,
      "outputs": []
    },
    {
      "cell_type": "code",
      "source": [
        "output = Solution(s)\n",
        "print(f\"Input: s = {s}\")\n",
        "print(\"Output: True\" if output.isPalindrome(s) else \"Output: False\")\n",
        "print('Explanation:')\n",
        "print(f'\"{output.s}\" is a palindrome' if output.isPalindrome(s) else f'\"{s}\" is not a palindrome')"
      ],
      "metadata": {
        "colab": {
          "base_uri": "https://localhost:8080/"
        },
        "id": "8HghbjNzt8pH",
        "outputId": "4dfbc8e9-d631-4993-8cfa-9606beb93823"
      },
      "execution_count": null,
      "outputs": [
        {
          "output_type": "stream",
          "name": "stdout",
          "text": [
            "Input: s = A man, a plan, a canal: Panama\n",
            "Output: True\n",
            "Explanation:\n",
            "\"amanaplanacanalpanama\" is a palindrome\n"
          ]
        }
      ]
    },
    {
      "cell_type": "code",
      "source": [],
      "metadata": {
        "id": "bglnfx7TuXdm"
      },
      "execution_count": null,
      "outputs": []
    }
  ]
}