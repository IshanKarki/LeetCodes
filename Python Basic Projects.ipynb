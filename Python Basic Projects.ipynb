{
  "nbformat": 4,
  "nbformat_minor": 0,
  "metadata": {
    "colab": {
      "provenance": [],
      "authorship_tag": "ABX9TyMeka7x7DfdvD9nKR7yLXWt",
      "include_colab_link": true
    },
    "kernelspec": {
      "name": "python3",
      "display_name": "Python 3"
    },
    "language_info": {
      "name": "python"
    }
  },
  "cells": [
    {
      "cell_type": "markdown",
      "metadata": {
        "id": "view-in-github",
        "colab_type": "text"
      },
      "source": [
        "<a href=\"https://colab.research.google.com/github/IshanKarki/LeetCodes/blob/Python-Basic-Projects/Python%20Basic%20Projects.ipynb\" target=\"_parent\"><img src=\"https://colab.research.google.com/assets/colab-badge.svg\" alt=\"Open In Colab\"/></a>"
      ]
    },
    {
      "cell_type": "markdown",
      "source": [
        "# This notebook consists a list of some basic and fun python projects\n",
        "\n",
        "# ***1.  Create Acronyms using Python***\n",
        "  \n",
        "Suppose the user types in the word, Artificial Intelligence, then get the output as AI.\n",
        "\n",
        "    Example 1:\n",
        "    user_input = \"Artificial Intelligence\"\n",
        "    OUTPUT: AI\n",
        "\n",
        "    Example 2:\n",
        "    user_input = 'Natural Language Processing'\n",
        "    OUTPUT: NLP\n",
        "\n",
        "    Example 3:\n",
        "    user_input = 'Life is Short, live a little'\n",
        "    OUTPUT: LISLAL\n",
        "\n",
        "    "
      ],
      "metadata": {
        "id": "q_D1SsZVLu4V"
      }
    },
    {
      "cell_type": "code",
      "execution_count": null,
      "metadata": {
        "colab": {
          "base_uri": "https://localhost:8080/"
        },
        "id": "ef9an9cjLuLz",
        "outputId": "9197a4d2-bd57-4ec8-e552-1c72ec3591f8"
      },
      "outputs": [
        {
          "output_type": "stream",
          "name": "stdout",
          "text": [
            "Enter the string:  Natural language processing\n",
            "user_input =  Natural language processing\n",
            "Output: NLP\n"
          ]
        }
      ],
      "source": [
        "#input from user\n",
        "user_input = input('Enter the string:  ')\n",
        "\n",
        "words = user_input.split()\n",
        "words = [word.upper() for word in words]\n",
        "\n",
        "output = ''\n",
        "for word in words:\n",
        "  base = word[0]\n",
        "  output += base\n",
        "\n",
        "print('user_input = ', user_input)\n",
        "print('Output: ', end ='')\n",
        "print(output)"
      ]
    },
    {
      "cell_type": "markdown",
      "source": [
        "\n",
        "# ***2.   Email Slicer with Python***\n",
        "\n",
        "          Example 1:\n",
        "          Enter Your Email: support@iloveprogram.com\n",
        "          Your user name is ‘support’ and your domain is ‘iloveprogram.com’\n",
        "\n",
        "\n"
      ],
      "metadata": {
        "id": "7bbR5yaRPJho"
      }
    },
    {
      "cell_type": "code",
      "source": [
        "#start\n",
        "email = input('Enter your valid email:  ').strip()\n",
        "email_list = email.split('@')\n",
        "username = email_list[0]\n",
        "domain = email_list[-1]\n",
        "\n",
        "print(f\"Your email is '{email}'\")\n",
        "print(f\"Your user name is '{username}' and your domain is '{domain}'\")"
      ],
      "metadata": {
        "colab": {
          "base_uri": "https://localhost:8080/"
        },
        "id": "MRjiUsSPNkYN",
        "outputId": "fcab36ee-b92c-4152-a126-9b071175d4e3"
      },
      "execution_count": null,
      "outputs": [
        {
          "output_type": "stream",
          "name": "stdout",
          "text": [
            "Enter your valid email:  heartbreak@love.com\n",
            "Your email is 'heartbreak@love.com'\n",
            "Your user name is 'heartbreak' and your domain is 'love.com'\n"
          ]
        }
      ]
    },
    {
      "cell_type": "code",
      "source": [
        "#using string slicing\n",
        "\n",
        "email = input('Enter your valid email: ').strip()\n",
        "username = email[:email.index('@')]\n",
        "domain = email[email.index('@') + 1:]\n",
        "\n",
        "print(f\"Your email is '{email}'\")\n",
        "print(f\"Your username is '{username}' and your domain is '{domain}'\")"
      ],
      "metadata": {
        "colab": {
          "base_uri": "https://localhost:8080/"
        },
        "id": "lwy3cadGRbja",
        "outputId": "467e25a9-7e4e-4a35-b0c2-49b44998ba75"
      },
      "execution_count": null,
      "outputs": [
        {
          "output_type": "stream",
          "name": "stdout",
          "text": [
            "Enter your valid email: heartbreak@love.com     \n",
            "Your email is 'heartbreak@love.com'\n",
            "Your username is 'heartbreak' and your domain is 'love.com'\n"
          ]
        }
      ]
    },
    {
      "cell_type": "markdown",
      "source": [
        "# ***3. Generate Password with Python***\n",
        "\n",
        "\n",
        "   This is about generating a random password of some length, taking input from the user on the length, and generating a random password.\n"
      ],
      "metadata": {
        "id": "1cWvSHbTZ5LZ"
      }
    },
    {
      "cell_type": "code",
      "source": [
        "#lets take input of length\n",
        "passlength = int(input('Enter the length of the password to generate:  '))"
      ],
      "metadata": {
        "colab": {
          "base_uri": "https://localhost:8080/"
        },
        "id": "fg_xvtVvxKz3",
        "outputId": "5af9634f-e37b-4874-8914-5399fc25f643"
      },
      "execution_count": null,
      "outputs": [
        {
          "name": "stdout",
          "output_type": "stream",
          "text": [
            "Enter the length of the password to generate:  8\n"
          ]
        }
      ]
    },
    {
      "cell_type": "code",
      "source": [
        "import random\n",
        "\n",
        "s = \"abcdefghijklmnopqrstuvwxyz01234567890ABCDEFGHIJKLMNOPQRSTUVWXYZ!@#$%^&*()?\"\n",
        "\n",
        "print('\\nYour entered length of password is', passlength)\n",
        "print('Your suggested random password is:  ', end = '')\n",
        "print(''.join(random.sample(s, passlength)))"
      ],
      "metadata": {
        "colab": {
          "base_uri": "https://localhost:8080/"
        },
        "id": "uvWZaDGVdeCY",
        "outputId": "33ad2655-a8d2-4ce8-be66-94f98117e178"
      },
      "execution_count": null,
      "outputs": [
        {
          "output_type": "stream",
          "name": "stdout",
          "text": [
            "\n",
            "Your entered length of password is 8\n",
            "Your suggested random password is:  6lDa0eNu\n"
          ]
        }
      ]
    },
    {
      "cell_type": "markdown",
      "source": [
        "You can keep running the code cell above to keep shuffling random passwords of the entered wordlength. If you wish to change the length of the word, you can run the input *passlength* field to enter another and keep running the code cell below it to keep generating random passwords."
      ],
      "metadata": {
        "id": "wp1gYZVmxyvh"
      }
    },
    {
      "cell_type": "markdown",
      "source": [
        "# ***4.  Random Story Generator with Python***\n",
        "\n",
        "Lets generate a random story with some words already in a list. So, everytime we run the program, a random story appears to make sense, be it funny or exciting. It's more or like **`Mad Libs Theatre`**"
      ],
      "metadata": {
        "id": "dwGHffud42VB"
      }
    },
    {
      "cell_type": "code",
      "source": [
        "import random\n",
        "when = ['A few years ago', 'Yesterday', 'Last night', 'A long time ago','One day among brisk mid-winter']\n",
        "who = ['a rabbit', 'an elephant', 'a mouse', 'a turtle','a cat']\n",
        "name = ['Ali', 'Miriam','daniel', 'Hoouk', 'Starwalker']\n",
        "residence = ['Barcelona','India', 'Germany', 'Venice', 'England', 'a jungle', 'a riverside mysterious cave', 'snake island', '']\n",
        "went = ['cinema', 'university','seminar', 'school', 'laundry', 'war of the underworlds']\n",
        "happened = ['made a lot of friends','Eats a burger', 'found a secret key', 'solved a mistery', 'wrote a book', 'become the king of the nightsky', 'became the ruler of Egypt', 'crowned Legend of the Underground']\n",
        "print(random.choice(when) + ', ' + random.choice(who) + ' that lived in ' + random.choice(residence) + ', went to the ' + random.choice(went) + ' and ' + random.choice(happened))"
      ],
      "metadata": {
        "id": "wwD6buJBxvK8",
        "colab": {
          "base_uri": "https://localhost:8080/"
        },
        "outputId": "2a70fa0e-24d3-42ad-f542-31f7135aef47"
      },
      "execution_count": null,
      "outputs": [
        {
          "output_type": "stream",
          "name": "stdout",
          "text": [
            "A long time ago, a rabbit that lived in England, went to the university and crowned Legend of the Underground\n"
          ]
        }
      ]
    },
    {
      "cell_type": "markdown",
      "source": [
        "# ***5.  Rock, Paper, Scissors***\n",
        "\n",
        "Here, players compete against computer in a game of the old classic Rock, Paper & Scissors, as long as the player wants until the player enters *'end'* to end the game against computer. The scores will be piled up and added.\n",
        "\n",
        "In order for the player to win, he must beat the computer by scoring higher than the computer.\n",
        "\n",
        "    Demonstration:\n",
        "    Rock, Paper or Scissors?:  Rock\n",
        "    Tie!\n",
        "    \n",
        "    Rock, Paper or Scissors?:  Scissors\n",
        "    You win! Scissors cuts Paper\n",
        "\n",
        "    Rock, Paper or Scissors?:  Paper\n",
        "    You lose! Paper covers Rock\n",
        "\n",
        "    Rock, Paper or Scissors?:  Rock\n",
        "    You win! Rock smashes Scissors\n",
        "\n",
        "    Rock, Paper or Scissors?: end\n",
        "\n",
        "    Final Scores:\n",
        "    Player Score: 2\n",
        "    Computer Score: 1\n",
        "    Congratulations!!! You won. You beat the Computer.\n",
        "\n"
      ],
      "metadata": {
        "id": "uwRwlXYbvocM"
      }
    },
    {
      "cell_type": "code",
      "source": [
        "import random\n",
        "choices = ['Rock', 'Paper', 'Scissors']\n",
        "computer_score = 0\n",
        "player_score = 0\n",
        "round = 1\n",
        "\n",
        "print('Enter Rock, Paper or Scissors, to play against computer,')\n",
        "print('Enter End or E to stop playing and get the score sheet.\\n')\n",
        "while True:\n",
        "  print('Round:', round)\n",
        "  round += 1\n",
        "  player = input('Rock, Paper or Scissors?:  ').capitalize()\n",
        "  computer = random.choice(choices)\n",
        "  if player == computer:\n",
        "    print('Its a Tie!\\n')\n",
        "  elif player == 'Rock':\n",
        "    if computer == 'Paper':\n",
        "      print(f\"You lose! '{computer}' covers '{player}'\\n\")\n",
        "      computer_score += 1\n",
        "    else:\n",
        "      print(f\"You win! '{player}' smashes '{computer}'\\n\")\n",
        "      player_score += 1\n",
        "  elif player == 'Paper':\n",
        "    if computer == 'Scissors':\n",
        "      print(f\"You lose! '{computer}' cuts '{player}'\\n\")\n",
        "      computer_score += 1\n",
        "    else:\n",
        "      print(f\"You win! '{player}' covers '{computer}'\\n\")\n",
        "      player_score += 1\n",
        "  elif player == 'Scissors':\n",
        "    if computer == 'Rock':\n",
        "      print(f\"You lose! '{computer}' smashes '{player}'\\n\")\n",
        "      computer_score += 1\n",
        "    else:\n",
        "      print(f\"You win! '{player}' cuts '{computer}'\\n\")\n",
        "      player_score += 1\n",
        "\n",
        "  if player == 'End' or player == 'E':\n",
        "      print('\\nFinal Scores:')\n",
        "      print('Player Score:', player_score)\n",
        "      print('Computer Score:', computer_score)\n",
        "      if player_score > computer_score:\n",
        "        print('Congratulations!!! You won. You beat the Computer.')\n",
        "      else:\n",
        "        print(\"You lost, LOSER!!! Computer won. Better Luck Next Time. Please Don't cry!\")\n",
        "      break\n"
      ],
      "metadata": {
        "id": "nBI3PxuE6TUB",
        "colab": {
          "base_uri": "https://localhost:8080/"
        },
        "outputId": "615d8e58-0f27-43d9-d0c4-36731ca26c14"
      },
      "execution_count": null,
      "outputs": [
        {
          "output_type": "stream",
          "name": "stdout",
          "text": [
            "Enter Rock, Paper or Scissors, to play against computer,\n",
            "Enter End or E to stop playing and get the score sheet.\n",
            "\n",
            "Round: 1\n",
            "Rock, Paper or Scissors?:  rock\n",
            "Its a Tie!\n",
            "\n",
            "Round: 2\n",
            "Rock, Paper or Scissors?:  paper\n",
            "You win! 'Paper' covers 'Rock'\n",
            "\n",
            "Round: 3\n",
            "Rock, Paper or Scissors?:  ishan\n",
            "Round: 4\n",
            "Rock, Paper or Scissors?:  rock\n",
            "Its a Tie!\n",
            "\n",
            "Round: 5\n",
            "Rock, Paper or Scissors?:  rock\n",
            "You win! 'Rock' smashes 'Scissors'\n",
            "\n",
            "Round: 6\n",
            "Rock, Paper or Scissors?:  scissors\n",
            "You lose! 'Rock' smashes 'Scissors'\n",
            "\n",
            "Round: 7\n",
            "Rock, Paper or Scissors?:  paper\n",
            "Its a Tie!\n",
            "\n",
            "Round: 8\n",
            "Rock, Paper or Scissors?:  paper\n",
            "Its a Tie!\n",
            "\n",
            "Round: 9\n",
            "Rock, Paper or Scissors?:  per\n",
            "Round: 10\n",
            "Rock, Paper or Scissors?:  paper\n",
            "You lose! 'Scissors' cuts 'Paper'\n",
            "\n",
            "Round: 11\n",
            "Rock, Paper or Scissors?:  e\n",
            "\n",
            "Final Scores:\n",
            "Player Score: 2\n",
            "Computer Score: 2\n",
            "You lost, LOSER!!! Computer won. Better Luck Next Time. Please Don't cry!\n"
          ]
        }
      ]
    },
    {
      "cell_type": "markdown",
      "source": [
        "# ***6. Rolling the Dice***\n",
        "\n",
        "    Demonstration:\n",
        "\n",
        "    Rolling The Dices…\n",
        "    The Values are :\n",
        "    5\n",
        "    4\n",
        "    Roll the Dices Again?: yes\n",
        "    Rolling The Dices…\n",
        "    The Values are :\n",
        "    1\n",
        "    3"
      ],
      "metadata": {
        "id": "So8G1C3pMWmC"
      }
    },
    {
      "cell_type": "code",
      "source": [
        "import random\n",
        "\n",
        "roll = 'true'\n",
        "\n",
        "while roll in ['yes', 'true', '1', 'sure', 'ok', 'roll', 'go']:\n",
        "  print(\"Rolling the Dices....\")\n",
        "  print(\"The values are.....\")\n",
        "\n",
        "  print(random.randint(1, 6), end = ' ')\n",
        "  print(random.randint(1, 6), '\\n')\n",
        "\n",
        "  roll = input('Roll the Dice again?:  ').lower()\n"
      ],
      "metadata": {
        "id": "nSdJbn922pSi",
        "colab": {
          "base_uri": "https://localhost:8080/"
        },
        "outputId": "8c2db4ce-fc7b-44e1-ed4f-4f097dd5ecf7"
      },
      "execution_count": 12,
      "outputs": [
        {
          "name": "stdout",
          "output_type": "stream",
          "text": [
            "Rolling the Dices....\n",
            "The values are.....\n",
            "5 3 \n",
            "\n",
            "Roll the Dice again?:  yes\n",
            "Rolling the Dices....\n",
            "The values are.....\n",
            "2 5 \n",
            "\n",
            "Roll the Dice again?:  ok\n",
            "Rolling the Dices....\n",
            "The values are.....\n",
            "6 1 \n",
            "\n",
            "Roll the Dice again?:  sure\n",
            "Rolling the Dices....\n",
            "The values are.....\n",
            "5 2 \n",
            "\n",
            "Roll the Dice again?:  no\n"
          ]
        }
      ]
    },
    {
      "cell_type": "markdown",
      "source": [
        "# ***7. QR Code Generator***\n",
        "\n",
        "We'll generate a sample QR Code, and then allow user to input anything and to generate a QR Code from it.\n"
      ],
      "metadata": {
        "id": "tG_85jzwPcMM"
      }
    },
    {
      "cell_type": "code",
      "source": [
        "# we need to install qrcode module to generate QR Code so lets first install it\n",
        "!pip install qrcode"
      ],
      "metadata": {
        "colab": {
          "base_uri": "https://localhost:8080/"
        },
        "id": "1id2USBJOUaZ",
        "outputId": "1b1a2f98-3d40-425c-c3cb-5967fad1e117"
      },
      "execution_count": 28,
      "outputs": [
        {
          "output_type": "stream",
          "name": "stdout",
          "text": [
            "Collecting qrcode\n",
            "  Downloading qrcode-7.4.2-py3-none-any.whl (46 kB)\n",
            "\u001b[2K     \u001b[90m━━━━━━━━━━━━━━━━━━━━━━━━━━━━━━━━━━━━━━━━\u001b[0m \u001b[32m46.2/46.2 kB\u001b[0m \u001b[31m754.8 kB/s\u001b[0m eta \u001b[36m0:00:00\u001b[0m\n",
            "\u001b[?25hRequirement already satisfied: typing-extensions in /usr/local/lib/python3.10/dist-packages (from qrcode) (4.10.0)\n",
            "Requirement already satisfied: pypng in /usr/local/lib/python3.10/dist-packages (from qrcode) (0.20220715.0)\n",
            "Installing collected packages: qrcode\n",
            "Successfully installed qrcode-7.4.2\n"
          ]
        }
      ]
    },
    {
      "cell_type": "code",
      "source": [
        "import qrcode\n",
        "#lets generate a sample QR code to show how it works\n",
        "sample = 'https://www.instagram.com/_istudios'\n",
        "\n",
        "# Generate QR code\n",
        "url = qrcode.make(sample)\n",
        "print(url)\n",
        "\n",
        "# Saving the image\n",
        "url.save('istudios.png')\n",
        "url.show()"
      ],
      "metadata": {
        "colab": {
          "base_uri": "https://localhost:8080/"
        },
        "id": "Z349LgMcU0Jn",
        "outputId": "e950a6a3-d1fc-4e6e-b7bc-3fc636f10818"
      },
      "execution_count": 35,
      "outputs": [
        {
          "output_type": "stream",
          "name": "stdout",
          "text": [
            "<qrcode.image.pil.PilImage object at 0x798aba21b9d0>\n"
          ]
        }
      ]
    },
    {
      "cell_type": "code",
      "source": [],
      "metadata": {
        "id": "uak-P55klq7c"
      },
      "execution_count": null,
      "outputs": []
    }
  ]
}