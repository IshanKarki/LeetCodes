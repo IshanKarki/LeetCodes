{
  "nbformat": 4,
  "nbformat_minor": 0,
  "metadata": {
    "colab": {
      "provenance": [],
      "authorship_tag": "ABX9TyP+qyWFojR9UH3jESL8Ruzl",
      "include_colab_link": true
    },
    "kernelspec": {
      "name": "python3",
      "display_name": "Python 3"
    },
    "language_info": {
      "name": "python"
    }
  },
  "cells": [
    {
      "cell_type": "markdown",
      "metadata": {
        "id": "view-in-github",
        "colab_type": "text"
      },
      "source": [
        "<a href=\"https://colab.research.google.com/github/IshanKarki/LeetCodes/blob/main/Merge%20Strings%20Alternatively/Merge_Strings_Alternatively.ipynb\" target=\"_parent\"><img src=\"https://colab.research.google.com/assets/colab-badge.svg\" alt=\"Open In Colab\"/></a>"
      ]
    },
    {
      "cell_type": "markdown",
      "source": [
        "# Merge Strings Alternatively\n",
        "\n",
        "You are given two strings ***word1*** and ***word2***. Merge the strings by adding letters in alternating order, starting with word1. If a string is longer than the other, append the additional letters onto the end of the merged string.\n",
        "\n",
        "Return the **merged string**.\n",
        "\n",
        "\n",
        "\n",
        "    Example 1:\n",
        "    Input: word1 = \"abc\", word2 = \"pqr\"\n",
        "    Output: \"apbqcr\"\n",
        "    Explanation: The merged string will be merged as so:\n",
        "    word1:  a   b   c\n",
        "    word2:    p   q   r\n",
        "    merged: a p b q c r\n",
        "    \n",
        "    Example 2:\n",
        "    Input: word1 = \"ab\", word2 = \"pqrs\"\n",
        "    Output: \"apbqrs\"\n",
        "    Explanation: Notice that as word2 is longer, \"rs\" is appended to the end.\n",
        "    word1:  a   b\n",
        "    word2:    p   q   r   s\n",
        "    merged: a p b q   r   s\n",
        "\n",
        "    Example 3:\n",
        "    Input: word1 = \"abcd\", word2 = \"pq\"\n",
        "    Output: \"apbqcd\"\n",
        "    Explanation: Notice that as word1 is longer, \"cd\" is appended to the end.\n",
        "    word1:  a   b   c   d\n",
        "    word2:    p   q\n",
        "    merged: a p b q c   d\n",
        "\n",
        "\n",
        "\n",
        "\n"
      ],
      "metadata": {
        "id": "tnhblMtU9Dbe"
      }
    },
    {
      "cell_type": "code",
      "execution_count": 4,
      "metadata": {
        "colab": {
          "base_uri": "https://localhost:8080/"
        },
        "id": "PUvZj-W-8wYJ",
        "outputId": "d5b52a6f-e478-4632-ef33-469af1c22316"
      },
      "outputs": [
        {
          "name": "stdout",
          "output_type": "stream",
          "text": [
            "Enter the word1: abcd\n",
            "Enter the word2: pq\n"
          ]
        }
      ],
      "source": [
        "#lets take input from user\n",
        "word1 = input(\"Enter the word1: \")\n",
        "word2 = input(\"Enter the word2: \")\n"
      ]
    },
    {
      "cell_type": "code",
      "source": [
        "class Solution:\n",
        "  def mergeAlternatively(self, word1, word2):\n",
        "\n",
        "    final_word = ''\n",
        "    i = 0\n",
        "    while i < len(word1) or i < len(word2):\n",
        "      if i < len(word1):  #for the first letter\n",
        "        final_word += word1[i]\n",
        "      if i < len(word2): #since for the second letter\n",
        "        final_word += word2[i]\n",
        "\n",
        "      i += 1\n",
        "\n",
        "    return final_word"
      ],
      "metadata": {
        "id": "AtjkKrdN95ML"
      },
      "execution_count": 5,
      "outputs": []
    },
    {
      "cell_type": "code",
      "source": [
        "output = Solution()\n",
        "print(output.mergeAlternatively(word1, word2))"
      ],
      "metadata": {
        "colab": {
          "base_uri": "https://localhost:8080/"
        },
        "id": "1yeFIpK_-f1d",
        "outputId": "1446c07d-9c59-4bac-8f03-df0c40a5c4ed"
      },
      "execution_count": 6,
      "outputs": [
        {
          "output_type": "stream",
          "name": "stdout",
          "text": [
            "apbqcd\n"
          ]
        }
      ]
    },
    {
      "cell_type": "code",
      "source": [],
      "metadata": {
        "id": "4fMgX-lB-o9p"
      },
      "execution_count": null,
      "outputs": []
    }
  ]
}