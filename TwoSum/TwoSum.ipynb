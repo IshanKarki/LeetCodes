{
  "nbformat": 4,
  "nbformat_minor": 0,
  "metadata": {
    "colab": {
      "provenance": [],
      "authorship_tag": "ABX9TyPFOF3lADwIKQGDOGfzUloa",
      "include_colab_link": true
    },
    "kernelspec": {
      "name": "python3",
      "display_name": "Python 3"
    },
    "language_info": {
      "name": "python"
    }
  },
  "cells": [
    {
      "cell_type": "markdown",
      "metadata": {
        "id": "view-in-github",
        "colab_type": "text"
      },
      "source": [
        "<a href=\"https://colab.research.google.com/github/IshanKarki/LeetCodes/blob/main/TwoSum/TwoSum.ipynb\" target=\"_parent\"><img src=\"https://colab.research.google.com/assets/colab-badge.svg\" alt=\"Open In Colab\"/></a>"
      ]
    },
    {
      "cell_type": "markdown",
      "source": [
        "# **1. Two SUM**"
      ],
      "metadata": {
        "id": "8K9-DJ_R41Qw"
      }
    },
    {
      "cell_type": "markdown",
      "source": [
        "Given an array of integers *nums* and an integer *target*, return indices of the two numbers such that they add up to *target*.\n",
        "\n",
        "You may assume that each input would have exactly one solution, and you may not use the same element twice.\n",
        "\n",
        "You can return the answer in any order.\n",
        "```\n",
        "# Example 1:\n",
        "Input: nums = [2,7,11,15], target = 9\n",
        "Output: [0,1]\n",
        "Explanation: Because nums[0] + nums[1] == 9, we return [0, 1].\n",
        "```\n",
        "```\n",
        "#\n",
        "Example 2:\n",
        "Input: nums = [3,2,5], target = 7\n",
        "Output: [1,2]\n",
        "```\n",
        "```\n",
        "# Example 3:\n",
        "Input: nums = [3,3], target = 6\n",
        "Output: [0,1]\n",
        "```\n",
        "\n"
      ],
      "metadata": {
        "id": "0eYA_LWh40Qq"
      }
    },
    {
      "cell_type": "markdown",
      "source": [
        "# Approach\n",
        "Now, there can be two approaches to this problem.\n",
        "1. Brute Force Approach\n",
        "2. Hash Table"
      ],
      "metadata": {
        "id": "aryISZF06fvq"
      }
    },
    {
      "cell_type": "markdown",
      "source": [
        "Now as illustrated in the examples above, lets consider those three test cases.\n",
        "# Solution 1 : Brute Force"
      ],
      "metadata": {
        "id": "rK0weLRE7OPV"
      }
    },
    {
      "cell_type": "code",
      "source": [
        "from numpy import random\n",
        "\n",
        "# lets map the respective values so we get a random value from the above test cases as we have illustrated.\n",
        "mapped = {\n",
        "    9: [2,7,11,15],\n",
        "    7: [3,2,5],\n",
        "    6: [3,3]\n",
        "}\n",
        "\n",
        "target = random.choice([9, 6, 7])\n",
        "print(target)\n",
        "# print(type(target))\n",
        "\n",
        "nums = mapped[target]\n",
        "# print(type(nums))\n",
        "print(nums)"
      ],
      "metadata": {
        "colab": {
          "base_uri": "https://localhost:8080/"
        },
        "id": "QXQuOsrP6XLj",
        "outputId": "b9469d65-d34d-409d-c076-fa69f6f2ca0a"
      },
      "execution_count": 99,
      "outputs": [
        {
          "output_type": "stream",
          "name": "stdout",
          "text": [
            "6\n",
            "[3, 3]\n"
          ]
        }
      ]
    },
    {
      "cell_type": "code",
      "source": [
        "class Solution1:\n",
        "  def twoSum(self, nums, target):\n",
        "    n = len(nums)\n",
        "\n",
        "    for i in range(n-1):\n",
        "      for j in range(1, n):\n",
        "\n",
        "        if nums[i] + nums[j] == target:\n",
        "          return [i, j]\n",
        "\n",
        "    return [] #if no solution for faster processing"
      ],
      "metadata": {
        "id": "YKNSH0Tk7vBb"
      },
      "execution_count": 82,
      "outputs": []
    },
    {
      "cell_type": "code",
      "source": [
        "output = Solution1() # we create an output object of the Solution class\n",
        "print(output.twoSum(nums, target)) #twoSum function takes two positional arguments."
      ],
      "metadata": {
        "colab": {
          "base_uri": "https://localhost:8080/"
        },
        "id": "VFFOMnDg7635",
        "outputId": "8b61a13c-a93a-4734-faef-24e59440c4ef"
      },
      "execution_count": 89,
      "outputs": [
        {
          "output_type": "stream",
          "name": "stdout",
          "text": [
            "[0, 1]\n"
          ]
        }
      ]
    },
    {
      "cell_type": "markdown",
      "source": [
        "# Solution 2 : Hash Table (Two Pass)\n"
      ],
      "metadata": {
        "id": "Gmt1X4V2OPce"
      }
    },
    {
      "cell_type": "code",
      "source": [
        "class Solution2:\n",
        "  def twoSum(self, nums, target):\n",
        "\n",
        "    numMap = {}\n",
        "    n = len(nums)\n",
        "\n",
        "    # feeding in the dictionary numMap as creating hash table\n",
        "    for i in range(n):\n",
        "      numMap[nums[i]] = i\n",
        "\n",
        "    # using the complement\n",
        "    for i in range(n):\n",
        "      complement = target - nums[i]\n",
        "      if complement in numMap and numMap[complement] != i:\n",
        "        return [i, numMap[complement]]\n",
        "\n",
        "    return [] # if no solution found."
      ],
      "metadata": {
        "id": "2DCIJjtA8dpM"
      },
      "execution_count": 102,
      "outputs": []
    },
    {
      "cell_type": "code",
      "source": [
        "output = Solution2()\n",
        "print(output.twoSum(nums, target))"
      ],
      "metadata": {
        "colab": {
          "base_uri": "https://localhost:8080/"
        },
        "id": "Xk5MHLhpQMts",
        "outputId": "5511a9b4-37c5-4a8b-a0ef-24607181d15f"
      },
      "execution_count": 103,
      "outputs": [
        {
          "output_type": "stream",
          "name": "stdout",
          "text": [
            "[0, 1]\n"
          ]
        }
      ]
    },
    {
      "cell_type": "code",
      "source": [],
      "metadata": {
        "id": "9poMBdACSkEl"
      },
      "execution_count": null,
      "outputs": []
    }
  ]
}